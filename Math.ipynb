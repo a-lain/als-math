{
 "cells": [
  {
   "cell_type": "code",
   "execution_count": 1,
   "id": "9eb239eb",
   "metadata": {},
   "outputs": [],
   "source": [
    "#include <als-math/Vector.hpp>\n",
    "#include <als-math/AlgebraicSolvers.hpp>\n",
    "#include <als-math/DualNumbers.hpp>\n",
    "#include <als-math/Integration.hpp>\n",
    "#include <als-math/Interpolation.hpp>\n",
    "#include <als-math/Matrix.hpp>\n",
    "#include <als-math/ODESolvers.hpp>\n",
    "#include <als-math/Vector.hpp>"
   ]
  },
  {
   "cell_type": "code",
   "execution_count": 2,
   "id": "0fc93675",
   "metadata": {},
   "outputs": [],
   "source": [
    "#pragma cling load(\"als-math.so\")"
   ]
  },
  {
   "cell_type": "code",
   "execution_count": 3,
   "id": "a17c186a",
   "metadata": {},
   "outputs": [],
   "source": [
    "using namespace als::math;\n",
    "namespace xc = als::xeus_cling;\n",
    "namespace xu = als::utilities;"
   ]
  },
  {
   "cell_type": "code",
   "execution_count": 4,
   "id": "94c91c1c",
   "metadata": {},
   "outputs": [],
   "source": [
    "xci->display_preferencies = xu::RepresentationType::PLAIN;"
   ]
  },
  {
   "cell_type": "markdown",
   "id": "82fa6940",
   "metadata": {},
   "source": [
    "<h3> Vector double </h3>"
   ]
  },
  {
   "cell_type": "code",
   "execution_count": 5,
   "id": "hindu-commerce",
   "metadata": {},
   "outputs": [],
   "source": [
    "Vector<double> a({2,3,4});\n",
    "Vector<double> b({-1,0,1});"
   ]
  },
  {
   "cell_type": "code",
   "execution_count": 6,
   "id": "2998247e",
   "metadata": {},
   "outputs": [
    {
     "data": {
      "text/plain": [
       "(2.00, 3.00, 4.00)"
      ]
     },
     "metadata": {},
     "output_type": "display_data"
    },
    {
     "data": {
      "text/latex": [
       "$\\left(-1.00, 0.00, 1.00\\right)$"
      ]
     },
     "metadata": {},
     "output_type": "display_data"
    }
   ],
   "source": [
    "xc::display_plain(a);\n",
    "xc::display_latex(b);"
   ]
  },
  {
   "cell_type": "code",
   "execution_count": 7,
   "id": "common-ladder",
   "metadata": {},
   "outputs": [
    {
     "data": {
      "text/plain": [
       "(1.00, 3.00, 5.00)"
      ]
     },
     "execution_count": 7,
     "metadata": {},
     "output_type": "execute_result"
    }
   ],
   "source": [
    "a+b"
   ]
  },
  {
   "cell_type": "code",
   "execution_count": 8,
   "id": "existing-split",
   "metadata": {},
   "outputs": [
    {
     "data": {
      "text/plain": [
       "(3.00, 3.00, 3.00)"
      ]
     },
     "execution_count": 8,
     "metadata": {},
     "output_type": "execute_result"
    }
   ],
   "source": [
    "a-b"
   ]
  },
  {
   "cell_type": "code",
   "execution_count": 9,
   "id": "gentle-cattle",
   "metadata": {},
   "outputs": [
    {
     "data": {
      "text/plain": [
       "(-2.00, 0.00, 4.00)"
      ]
     },
     "execution_count": 9,
     "metadata": {},
     "output_type": "execute_result"
    }
   ],
   "source": [
    "a*b"
   ]
  },
  {
   "cell_type": "code",
   "execution_count": 10,
   "id": "downtown-assist",
   "metadata": {},
   "outputs": [
    {
     "data": {
      "text/plain": [
       "(-2.00, inf, 4.00)"
      ]
     },
     "execution_count": 10,
     "metadata": {},
     "output_type": "execute_result"
    }
   ],
   "source": [
    "a/b"
   ]
  },
  {
   "cell_type": "code",
   "execution_count": 11,
   "id": "russian-double",
   "metadata": {},
   "outputs": [
    {
     "data": {
      "text/plain": [
       "2.00"
      ]
     },
     "execution_count": 11,
     "metadata": {},
     "output_type": "execute_result"
    }
   ],
   "source": [
    "(a|b)"
   ]
  },
  {
   "cell_type": "code",
   "execution_count": 12,
   "id": "surgical-macedonia",
   "metadata": {},
   "outputs": [
    {
     "data": {
      "text/plain": [
       "29.0"
      ]
     },
     "execution_count": 12,
     "metadata": {},
     "output_type": "execute_result"
    }
   ],
   "source": [
    "(a|a)"
   ]
  },
  {
   "cell_type": "code",
   "execution_count": 13,
   "id": "necessary-birth",
   "metadata": {},
   "outputs": [
    {
     "data": {
      "text/plain": [
       "2.00"
      ]
     },
     "execution_count": 13,
     "metadata": {},
     "output_type": "execute_result"
    }
   ],
   "source": [
    "(b|b)"
   ]
  },
  {
   "cell_type": "code",
   "execution_count": 14,
   "id": "stopped-keeping",
   "metadata": {},
   "outputs": [
    {
     "data": {
      "text/plain": [
       "5.39"
      ]
     },
     "execution_count": 14,
     "metadata": {},
     "output_type": "execute_result"
    }
   ],
   "source": [
    "a.norm_2()"
   ]
  },
  {
   "cell_type": "code",
   "execution_count": 15,
   "id": "caroline-judges",
   "metadata": {},
   "outputs": [
    {
     "data": {
      "text/plain": [
       "1.41"
      ]
     },
     "execution_count": 15,
     "metadata": {},
     "output_type": "execute_result"
    }
   ],
   "source": [
    "b.norm_2()"
   ]
  },
  {
   "cell_type": "code",
   "execution_count": 16,
   "id": "occupational-racing",
   "metadata": {},
   "outputs": [
    {
     "data": {
      "text/plain": [
       "9.00"
      ]
     },
     "execution_count": 16,
     "metadata": {},
     "output_type": "execute_result"
    }
   ],
   "source": [
    "a.norm_1()"
   ]
  },
  {
   "cell_type": "code",
   "execution_count": 17,
   "id": "extreme-processing",
   "metadata": {},
   "outputs": [
    {
     "data": {
      "text/plain": [
       "2.00"
      ]
     },
     "execution_count": 17,
     "metadata": {},
     "output_type": "execute_result"
    }
   ],
   "source": [
    "b.norm_1()"
   ]
  },
  {
   "cell_type": "code",
   "execution_count": 18,
   "id": "1e0e0cba",
   "metadata": {},
   "outputs": [
    {
     "data": {
      "text/plain": [
       "4.00"
      ]
     },
     "execution_count": 18,
     "metadata": {},
     "output_type": "execute_result"
    }
   ],
   "source": [
    "a.norm_inf()"
   ]
  },
  {
   "cell_type": "code",
   "execution_count": 19,
   "id": "51c0c748",
   "metadata": {},
   "outputs": [
    {
     "data": {
      "text/plain": [
       "1.00"
      ]
     },
     "execution_count": 19,
     "metadata": {},
     "output_type": "execute_result"
    }
   ],
   "source": [
    "b.norm_inf()"
   ]
  },
  {
   "cell_type": "code",
   "execution_count": 20,
   "id": "macro-sudan",
   "metadata": {},
   "outputs": [
    {
     "data": {
      "text/plain": [
       "(-0.416, -0.990, -0.654)"
      ]
     },
     "execution_count": 20,
     "metadata": {},
     "output_type": "execute_result"
    }
   ],
   "source": [
    "cos(a)"
   ]
  },
  {
   "cell_type": "code",
   "execution_count": 21,
   "id": "vocal-weight",
   "metadata": {},
   "outputs": [
    {
     "data": {
      "text/plain": [
       "(0.693, 1.10, 1.39)"
      ]
     },
     "execution_count": 21,
     "metadata": {},
     "output_type": "execute_result"
    }
   ],
   "source": [
    "log(a)"
   ]
  },
  {
   "cell_type": "code",
   "execution_count": 22,
   "id": "heard-breakfast",
   "metadata": {},
   "outputs": [
    {
     "data": {
      "text/plain": [
       "2.00"
      ]
     },
     "execution_count": 22,
     "metadata": {},
     "output_type": "execute_result"
    }
   ],
   "source": [
    "min(a)"
   ]
  },
  {
   "cell_type": "code",
   "execution_count": 23,
   "id": "together-macro",
   "metadata": {},
   "outputs": [
    {
     "data": {
      "text/plain": [
       "4.00"
      ]
     },
     "execution_count": 23,
     "metadata": {},
     "output_type": "execute_result"
    }
   ],
   "source": [
    "max(a)"
   ]
  },
  {
   "cell_type": "code",
   "execution_count": 24,
   "id": "distinct-pilot",
   "metadata": {},
   "outputs": [
    {
     "data": {
      "text/plain": [
       "9.00"
      ]
     },
     "execution_count": 24,
     "metadata": {},
     "output_type": "execute_result"
    }
   ],
   "source": [
    "sum(a)"
   ]
  },
  {
   "cell_type": "code",
   "execution_count": 25,
   "id": "cross-dealer",
   "metadata": {},
   "outputs": [
    {
     "data": {
      "text/plain": [
       "24.0"
      ]
     },
     "execution_count": 25,
     "metadata": {},
     "output_type": "execute_result"
    }
   ],
   "source": [
    "multiply(a)"
   ]
  },
  {
   "cell_type": "code",
   "execution_count": null,
   "id": "pleased-dylan",
   "metadata": {},
   "outputs": [],
   "source": []
  },
  {
   "cell_type": "markdown",
   "id": "c597340d",
   "metadata": {},
   "source": [
    "<h3> Vector std::complex </h3>"
   ]
  },
  {
   "cell_type": "code",
   "execution_count": 26,
   "id": "4ff7fa56",
   "metadata": {},
   "outputs": [],
   "source": [
    "Vector<std::complex<double>> c({2 + 1i,3 - 1i,4 +2i});\n",
    "Vector<std::complex<double>> d({-1 -1i,1i, 2i});"
   ]
  },
  {
   "cell_type": "code",
   "execution_count": 27,
   "id": "c967013a",
   "metadata": {},
   "outputs": [
    {
     "data": {
      "text/plain": [
       "(2.00 + 1.00i, 3.00 - 1.00i, 4.00 + 2.00i)"
      ]
     },
     "metadata": {},
     "output_type": "display_data"
    },
    {
     "data": {
      "text/latex": [
       "$\\left(-1.00 - 1.00\\mathrm{i}, 0.00 + 1.00\\mathrm{i}, 0.00 + 2.00\\mathrm{i}\\right)$"
      ]
     },
     "metadata": {},
     "output_type": "display_data"
    }
   ],
   "source": [
    "xc::display_plain(c);\n",
    "xc::display_latex(d);"
   ]
  },
  {
   "cell_type": "code",
   "execution_count": 28,
   "id": "531d09a4",
   "metadata": {},
   "outputs": [
    {
     "data": {
      "text/plain": [
       "(1.00 + 0.00i, 3.00 + 0.00i, 4.00 + 4.00i)"
      ]
     },
     "execution_count": 28,
     "metadata": {},
     "output_type": "execute_result"
    }
   ],
   "source": [
    "c+d"
   ]
  },
  {
   "cell_type": "code",
   "execution_count": 29,
   "id": "69b1f9b6",
   "metadata": {},
   "outputs": [
    {
     "data": {
      "text/plain": [
       "(3.00 + 2.00i, 3.00 - 2.00i, 4.00 + 0.00i)"
      ]
     },
     "execution_count": 29,
     "metadata": {},
     "output_type": "execute_result"
    }
   ],
   "source": [
    "c - d"
   ]
  },
  {
   "cell_type": "code",
   "execution_count": 30,
   "id": "51a9e024",
   "metadata": {},
   "outputs": [
    {
     "data": {
      "text/plain": [
       "(-1.00 - 3.00i, 1.00 + 3.00i, -4.00 + 8.00i)"
      ]
     },
     "execution_count": 30,
     "metadata": {},
     "output_type": "execute_result"
    }
   ],
   "source": [
    "c * d"
   ]
  },
  {
   "cell_type": "code",
   "execution_count": 31,
   "id": "1e4db80c",
   "metadata": {},
   "outputs": [
    {
     "data": {
      "text/plain": [
       "(-1.50 + 0.500i, -1.00 - 3.00i, 1.00 - 2.00i)"
      ]
     },
     "execution_count": 31,
     "metadata": {},
     "output_type": "execute_result"
    }
   ],
   "source": [
    "c / d"
   ]
  },
  {
   "cell_type": "code",
   "execution_count": 32,
   "id": "e17a6bc3",
   "metadata": {},
   "outputs": [
    {
     "data": {
      "text/plain": [
       "0.00 + 10.0i"
      ]
     },
     "execution_count": 32,
     "metadata": {},
     "output_type": "execute_result"
    }
   ],
   "source": [
    "(c|d)"
   ]
  },
  {
   "cell_type": "code",
   "execution_count": 33,
   "id": "4a27e78e",
   "metadata": {},
   "outputs": [
    {
     "data": {
      "text/plain": [
       "35.0 + 0.00i"
      ]
     },
     "execution_count": 33,
     "metadata": {},
     "output_type": "execute_result"
    }
   ],
   "source": [
    "(c|c)"
   ]
  },
  {
   "cell_type": "code",
   "execution_count": 34,
   "id": "53d329f3",
   "metadata": {},
   "outputs": [
    {
     "data": {
      "text/plain": [
       "7.00 + 0.00i"
      ]
     },
     "execution_count": 34,
     "metadata": {},
     "output_type": "execute_result"
    }
   ],
   "source": [
    "(d|d)"
   ]
  },
  {
   "cell_type": "code",
   "execution_count": 35,
   "id": "0bf99501",
   "metadata": {},
   "outputs": [
    {
     "data": {
      "text/plain": [
       "5.92"
      ]
     },
     "execution_count": 35,
     "metadata": {},
     "output_type": "execute_result"
    }
   ],
   "source": [
    "c.norm_2()"
   ]
  },
  {
   "cell_type": "code",
   "execution_count": 36,
   "id": "864faf43",
   "metadata": {},
   "outputs": [
    {
     "data": {
      "text/plain": [
       "2.65"
      ]
     },
     "execution_count": 36,
     "metadata": {},
     "output_type": "execute_result"
    }
   ],
   "source": [
    "d.norm_2()"
   ]
  },
  {
   "cell_type": "code",
   "execution_count": 37,
   "id": "44c620cb",
   "metadata": {},
   "outputs": [
    {
     "data": {
      "text/plain": [
       "9.87"
      ]
     },
     "execution_count": 37,
     "metadata": {},
     "output_type": "execute_result"
    }
   ],
   "source": [
    "c.norm_1()"
   ]
  },
  {
   "cell_type": "code",
   "execution_count": 38,
   "id": "e22dc13d",
   "metadata": {},
   "outputs": [
    {
     "data": {
      "text/plain": [
       "4.41"
      ]
     },
     "execution_count": 38,
     "metadata": {},
     "output_type": "execute_result"
    }
   ],
   "source": [
    "d.norm_1()"
   ]
  },
  {
   "cell_type": "code",
   "execution_count": 39,
   "id": "62f227cf",
   "metadata": {},
   "outputs": [
    {
     "data": {
      "text/plain": [
       "4.47"
      ]
     },
     "execution_count": 39,
     "metadata": {},
     "output_type": "execute_result"
    }
   ],
   "source": [
    "c.norm_inf()"
   ]
  },
  {
   "cell_type": "code",
   "execution_count": 40,
   "id": "17c09423",
   "metadata": {},
   "outputs": [
    {
     "data": {
      "text/plain": [
       "2.00"
      ]
     },
     "execution_count": 40,
     "metadata": {},
     "output_type": "execute_result"
    }
   ],
   "source": [
    "d.norm_inf()"
   ]
  },
  {
   "cell_type": "code",
   "execution_count": 41,
   "id": "1c6781af",
   "metadata": {},
   "outputs": [
    {
     "data": {
      "text/plain": [
       "(-0.642 - 1.07i, -1.53 + 0.166i, -2.46 + 2.74i)"
      ]
     },
     "execution_count": 41,
     "metadata": {},
     "output_type": "execute_result"
    }
   ],
   "source": [
    "cos(c)"
   ]
  },
  {
   "cell_type": "code",
   "execution_count": 42,
   "id": "7964394d",
   "metadata": {},
   "outputs": [
    {
     "data": {
      "text/plain": [
       "(0.347 - 2.36i, 0.00 + 1.57i, 0.693 + 1.57i)"
      ]
     },
     "execution_count": 42,
     "metadata": {},
     "output_type": "execute_result"
    }
   ],
   "source": [
    "log(d)"
   ]
  },
  {
   "cell_type": "code",
   "execution_count": null,
   "id": "6c855dd9",
   "metadata": {},
   "outputs": [],
   "source": []
  },
  {
   "cell_type": "code",
   "execution_count": null,
   "id": "497796f0",
   "metadata": {},
   "outputs": [],
   "source": []
  },
  {
   "cell_type": "markdown",
   "id": "f9999897",
   "metadata": {},
   "source": [
    "<h3> Matrix<double> </h3>"
   ]
  },
  {
   "cell_type": "code",
   "execution_count": 43,
   "id": "3281cd42",
   "metadata": {},
   "outputs": [
    {
     "data": {
      "text/plain": [
       "M((0.00, 0.00, 0.00),\n",
       "(0.00, 0.00, 0.00),\n",
       "(0.00, 0.00, 0.00))"
      ]
     },
     "metadata": {},
     "output_type": "display_data"
    },
    {
     "data": {
      "text/latex": [
       "$\\left(\\begin{array}{rrr}\n",
       "0.00 & 0.00 & 0.00 \\\\\n",
       "0.00 & 0.00 & 0.00 \\\\\n",
       "0.00 & 0.00 & 0.00 \\\\\n",
       "\\end{array}\\right)$"
      ]
     },
     "metadata": {},
     "output_type": "display_data"
    }
   ],
   "source": [
    "{\n",
    "    Matrix<double> A(3,3);\n",
    "    xc::display_plain(A);\n",
    "    xc::display_latex(A);\n",
    "}"
   ]
  },
  {
   "cell_type": "code",
   "execution_count": 44,
   "id": "b0c9940e",
   "metadata": {},
   "outputs": [
    {
     "data": {
      "text/latex": [
       "$\\left(\\begin{array}{rrrrr}\n",
       "0.00 & 0.00 & 0.00 & 0.00 & 0.00 \\\\\n",
       "\\end{array}\\right)$"
      ]
     },
     "metadata": {},
     "output_type": "display_data"
    }
   ],
   "source": [
    "{\n",
    "    Matrix<double> A(1,5);\n",
    "    xc::display_latex(A);\n",
    "}"
   ]
  },
  {
   "cell_type": "code",
   "execution_count": 45,
   "id": "a055d757",
   "metadata": {},
   "outputs": [
    {
     "data": {
      "text/latex": [
       "$\\left(\\begin{array}{r}\n",
       "0.00 \\\\\n",
       "0.00 \\\\\n",
       "0.00 \\\\\n",
       "0.00 \\\\\n",
       "0.00 \\\\\n",
       "\\end{array}\\right)$"
      ]
     },
     "metadata": {},
     "output_type": "display_data"
    }
   ],
   "source": [
    "{\n",
    "    Matrix<double> A(5,1);\n",
    "    xc::display_latex(A);\n",
    "}"
   ]
  },
  {
   "cell_type": "code",
   "execution_count": 46,
   "id": "14ee0f5e",
   "metadata": {},
   "outputs": [
    {
     "data": {
      "text/latex": [
       "$\\left(\\begin{array}{rrr}\n",
       "0.00 & 0.00 & 0.00 \\\\\n",
       "0.00 & 0.00 & 0.00 \\\\\n",
       "\\end{array}\\right)$"
      ]
     },
     "metadata": {},
     "output_type": "display_data"
    }
   ],
   "source": [
    "{\n",
    "    Matrix<double> A(2,3);\n",
    "    xc::display_latex(A);\n",
    "}"
   ]
  },
  {
   "cell_type": "code",
   "execution_count": 47,
   "id": "04c99417",
   "metadata": {},
   "outputs": [
    {
     "data": {
      "text/latex": [
       "$\\left(\\begin{array}{rr}\n",
       "1.00 & 0.00 \\\\\n",
       "0.00 & 1.00 \\\\\n",
       "\\end{array}\\right)$"
      ]
     },
     "metadata": {},
     "output_type": "display_data"
    }
   ],
   "source": [
    "{\n",
    "    Matrix<double> A(2,2, {1,0,0,1});\n",
    "    xc::display_latex(A);\n",
    "}"
   ]
  },
  {
   "cell_type": "code",
   "execution_count": 48,
   "id": "fefaeafc",
   "metadata": {},
   "outputs": [
    {
     "data": {
      "text/latex": [
       "$\\left(\\begin{array}{rr}\n",
       "0.0000000 & 0.0000000 \\\\\n",
       "0.0000000 & 0.0000000 \\\\\n",
       "\\end{array}\\right)$"
      ]
     },
     "metadata": {},
     "output_type": "display_data"
    }
   ],
   "source": [
    "{\n",
    "    xc::display_latex(Matrix<double>::zero(2), 8u);\n",
    "}"
   ]
  },
  {
   "cell_type": "code",
   "execution_count": 49,
   "id": "482426c5",
   "metadata": {},
   "outputs": [
    {
     "data": {
      "text/latex": [
       "$\\left(\\begin{array}{rr}\n",
       "1.0 & 0.0 \\\\\n",
       "0.0 & 1.0 \\\\\n",
       "\\end{array}\\right)$"
      ]
     },
     "metadata": {},
     "output_type": "display_data"
    }
   ],
   "source": [
    "{\n",
    "    xc::display_latex(Matrix<double>::identity(2), 2u);\n",
    "}"
   ]
  },
  {
   "cell_type": "code",
   "execution_count": 50,
   "id": "7accd224",
   "metadata": {},
   "outputs": [
    {
     "data": {
      "text/latex": [
       "$\\left(\\begin{array}{rr}\n",
       "1.00 & -1.00 \\\\\n",
       "1.00 & -1.00 \\\\\n",
       "\\end{array}\\right)$"
      ]
     },
     "metadata": {},
     "output_type": "display_data"
    },
    {
     "data": {
      "text/latex": [
       "$\\left(\\begin{array}{rr}\n",
       "2.00 & -3.00 \\\\\n",
       "1.00 & 1.00 \\\\\n",
       "\\end{array}\\right)$"
      ]
     },
     "metadata": {},
     "output_type": "display_data"
    },
    {
     "data": {
      "text/latex": [
       "$\\left(\\begin{array}{rr}\n",
       "3.00 & -4.00 \\\\\n",
       "2.00 & 0.00 \\\\\n",
       "\\end{array}\\right)$"
      ]
     },
     "metadata": {},
     "output_type": "display_data"
    },
    {
     "data": {
      "text/latex": [
       "$\\left(\\begin{array}{rr}\n",
       "-1.00 & 2.00 \\\\\n",
       "0.00 & -2.00 \\\\\n",
       "\\end{array}\\right)$"
      ]
     },
     "metadata": {},
     "output_type": "display_data"
    },
    {
     "data": {
      "text/latex": [
       "$\\left(\\begin{array}{rr}\n",
       "1.00 & -4.00 \\\\\n",
       "1.00 & -4.00 \\\\\n",
       "\\end{array}\\right)$"
      ]
     },
     "metadata": {},
     "output_type": "display_data"
    },
    {
     "data": {
      "text/latex": [
       "$\\left(2.00, 1.00\\right)$"
      ]
     },
     "metadata": {},
     "output_type": "display_data"
    },
    {
     "data": {
      "text/latex": [
       "$\\left(2.00, -3.00\\right)$"
      ]
     },
     "metadata": {},
     "output_type": "display_data"
    },
    {
     "data": {
      "text/latex": [
       "$2.00$"
      ]
     },
     "metadata": {},
     "output_type": "display_data"
    },
    {
     "data": {
      "text/latex": [
       "$1.00$"
      ]
     },
     "metadata": {},
     "output_type": "display_data"
    }
   ],
   "source": [
    "{\n",
    "    Matrix<double> A(2,2, {1, -1, 1, -1});\n",
    "    Matrix<double> B(2,2, {2, -3, 1, 1});\n",
    "    xc::display_latex(A);\n",
    "    xc::display_latex(B);\n",
    "    xc::display_latex(A+B);\n",
    "    xc::display_latex(A-B);\n",
    "    xc::display_latex(A|B);\n",
    "    Vector<double> vec({1,0});\n",
    "    xc::display_latex(B|vec);\n",
    "    xc::display_latex(vec|B);\n",
    "    xc::display_latex(vec|B|vec);\n",
    "    xc::display_latex(vec|B|B|vec);\n",
    "}"
   ]
  },
  {
   "cell_type": "code",
   "execution_count": 51,
   "id": "3ea447e8",
   "metadata": {},
   "outputs": [
    {
     "data": {
      "text/latex": [
       "$\\left(\\begin{array}{rr}\n",
       "1.00 & -1.00 \\\\\n",
       "-2.00 & 2.00 \\\\\n",
       "\\end{array}\\right)$"
      ]
     },
     "metadata": {},
     "output_type": "display_data"
    },
    {
     "data": {
      "text/latex": [
       "$\\left(\\begin{array}{rr}\n",
       "4.00 & 2.00 \\\\\n",
       "1.00 & 5.00 \\\\\n",
       "\\end{array}\\right)$"
      ]
     },
     "metadata": {},
     "output_type": "display_data"
    },
    {
     "data": {
      "text/latex": [
       "$\\left(\\begin{array}{rr}\n",
       "4.00 & 2.00 \\\\\n",
       "1.00 & 5.00 \\\\\n",
       "\\end{array}\\right)$"
      ]
     },
     "metadata": {},
     "output_type": "display_data"
    },
    {
     "data": {
      "text/latex": [
       "$\\left(\\begin{array}{rr}\n",
       "2.00 & 4.00 \\\\\n",
       "5.00 & 1.00 \\\\\n",
       "\\end{array}\\right)$"
      ]
     },
     "metadata": {},
     "output_type": "display_data"
    },
    {
     "data": {
      "text/latex": [
       "$\\left(\\begin{array}{rr}\n",
       "-2.00 & -4.00 \\\\\n",
       "-5.00 & -1.00 \\\\\n",
       "\\end{array}\\right)$"
      ]
     },
     "metadata": {},
     "output_type": "display_data"
    },
    {
     "data": {
      "text/latex": [
       "$\\left(\\begin{array}{rr}\n",
       "3.00 & -3.00 \\\\\n",
       "-6.00 & 6.00 \\\\\n",
       "\\end{array}\\right)$"
      ]
     },
     "metadata": {},
     "output_type": "display_data"
    },
    {
     "data": {
      "text/latex": [
       "$\\left(\\begin{array}{rr}\n",
       "3.00 & -3.00 \\\\\n",
       "-6.00 & 6.00 \\\\\n",
       "\\end{array}\\right)$"
      ]
     },
     "metadata": {},
     "output_type": "display_data"
    },
    {
     "data": {
      "text/latex": [
       "$\\left(\\begin{array}{rr}\n",
       "0.333 & -0.333 \\\\\n",
       "-0.667 & 0.667 \\\\\n",
       "\\end{array}\\right)$"
      ]
     },
     "metadata": {},
     "output_type": "display_data"
    }
   ],
   "source": [
    "{\n",
    "    Matrix<double> A(2,2, {1, -1, -2, 2});\n",
    "    xc::display_latex(A);\n",
    "    xc::display_latex(3. + A);\n",
    "    xc::display_latex(A + 3.);\n",
    "    xc::display_latex(3. - A);\n",
    "    xc::display_latex(A - 3.);\n",
    "    xc::display_latex(3.*A);\n",
    "    xc::display_latex(A*3.);\n",
    "    xc::display_latex(A/3.);\n",
    "}"
   ]
  },
  {
   "cell_type": "code",
   "execution_count": 52,
   "id": "0f46a45a",
   "metadata": {},
   "outputs": [
    {
     "data": {
      "text/latex": [
       "$\\left(\\begin{array}{rr}\n",
       "1.00 & -1.00 \\\\\n",
       "-2.00 & 2.00 \\\\\n",
       "\\end{array}\\right)$"
      ]
     },
     "metadata": {},
     "output_type": "display_data"
    },
    {
     "data": {
      "text/latex": [
       "$\\left(\\begin{array}{rr}\n",
       "1.00 + 0.00\\mathrm{i} & -1.00 + 0.00\\mathrm{i} \\\\\n",
       "-2.00 + 0.00\\mathrm{i} & 2.00 + 0.00\\mathrm{i} \\\\\n",
       "\\end{array}\\right)$"
      ]
     },
     "metadata": {},
     "output_type": "display_data"
    }
   ],
   "source": [
    "{\n",
    "    Matrix<double> A(2,2, {1, -1, -2, 2});\n",
    "    xc::display_latex(A);\n",
    "    Matrix<std::complex<double>> Ac(A);\n",
    "    xc::display_latex(Ac);\n",
    "}"
   ]
  },
  {
   "cell_type": "code",
   "execution_count": 53,
   "id": "f5b01175",
   "metadata": {},
   "outputs": [
    {
     "data": {
      "text/latex": [
       "$\\left(\\begin{array}{rr}\n",
       "1.00 & -1.00 \\\\\n",
       "-2.00 & 2.00 \\\\\n",
       "\\end{array}\\right)$"
      ]
     },
     "metadata": {},
     "output_type": "display_data"
    },
    {
     "data": {
      "text/latex": [
       "$\\left(1.00, -1.00\\right)$"
      ]
     },
     "metadata": {},
     "output_type": "display_data"
    },
    {
     "data": {
      "text/latex": [
       "$\\left(-2.00, 2.00\\right)$"
      ]
     },
     "metadata": {},
     "output_type": "display_data"
    },
    {
     "data": {
      "text/latex": [
       "$\\left(1.00, -2.00\\right)$"
      ]
     },
     "metadata": {},
     "output_type": "display_data"
    },
    {
     "data": {
      "text/latex": [
       "$\\left(-1.00, 2.00\\right)$"
      ]
     },
     "metadata": {},
     "output_type": "display_data"
    },
    {
     "data": {
      "text/latex": [
       "$1.00$"
      ]
     },
     "metadata": {},
     "output_type": "display_data"
    },
    {
     "data": {
      "text/latex": [
       "$-1.00$"
      ]
     },
     "metadata": {},
     "output_type": "display_data"
    },
    {
     "data": {
      "text/latex": [
       "$-2.00$"
      ]
     },
     "metadata": {},
     "output_type": "display_data"
    },
    {
     "data": {
      "text/latex": [
       "$2.00$"
      ]
     },
     "metadata": {},
     "output_type": "display_data"
    }
   ],
   "source": [
    "{\n",
    "    Matrix<double> A(2,2, {1, -1, -2, 2});\n",
    "    xc::display_latex(A);\n",
    "    xc::display_latex(A(0,\"\"));\n",
    "    xc::display_latex(A(1,\"\"));\n",
    "    xc::display_latex(A(\"\",0));\n",
    "    xc::display_latex(A(\"\",1));\n",
    "    xc::display_latex(A(0,0));\n",
    "    xc::display_latex(A(0,1));\n",
    "    xc::display_latex(A(1,0));\n",
    "    xc::display_latex(A(1,1));\n",
    "}"
   ]
  },
  {
   "cell_type": "code",
   "execution_count": 54,
   "id": "335e79a4",
   "metadata": {},
   "outputs": [
    {
     "data": {
      "text/latex": [
       "$\\left(\\begin{array}{rr}\n",
       "1.00 & -1.00 \\\\\n",
       "-2.00 & 2.00 \\\\\n",
       "\\end{array}\\right)$"
      ]
     },
     "metadata": {},
     "output_type": "display_data"
    },
    {
     "data": {
      "text/latex": [
       "$\\left(\\begin{array}{rr}\n",
       "4.00 & 2.00 \\\\\n",
       "1.00 & 5.00 \\\\\n",
       "\\end{array}\\right)$"
      ]
     },
     "metadata": {},
     "output_type": "display_data"
    }
   ],
   "source": [
    "{\n",
    "    Matrix<double> A(2,2, {1, -1, -2, 2});\n",
    "    xc::display_latex(A);\n",
    "    A += 3;\n",
    "    xc::display_latex(A);\n",
    "}"
   ]
  },
  {
   "cell_type": "code",
   "execution_count": 55,
   "id": "bb5b38f6",
   "metadata": {},
   "outputs": [
    {
     "data": {
      "text/latex": [
       "$\\left(\\begin{array}{rr}\n",
       "1.00 & -1.00 \\\\\n",
       "-2.00 & 2.00 \\\\\n",
       "\\end{array}\\right)$"
      ]
     },
     "metadata": {},
     "output_type": "display_data"
    },
    {
     "data": {
      "text/latex": [
       "$\\left(\\begin{array}{rr}\n",
       "-2.00 & -4.00 \\\\\n",
       "-5.00 & -1.00 \\\\\n",
       "\\end{array}\\right)$"
      ]
     },
     "metadata": {},
     "output_type": "display_data"
    }
   ],
   "source": [
    "{\n",
    "    Matrix<double> A(2,2, {1, -1, -2, 2});\n",
    "    xc::display_latex(A);\n",
    "    A -= 3;\n",
    "    xc::display_latex(A);\n",
    "}"
   ]
  },
  {
   "cell_type": "code",
   "execution_count": 56,
   "id": "0263196e",
   "metadata": {},
   "outputs": [
    {
     "data": {
      "text/latex": [
       "$\\left(\\begin{array}{rr}\n",
       "1.00 & -1.00 \\\\\n",
       "-2.00 & 2.00 \\\\\n",
       "\\end{array}\\right)$"
      ]
     },
     "metadata": {},
     "output_type": "display_data"
    },
    {
     "data": {
      "text/latex": [
       "$\\left(\\begin{array}{rr}\n",
       "3.00 & -3.00 \\\\\n",
       "-6.00 & 6.00 \\\\\n",
       "\\end{array}\\right)$"
      ]
     },
     "metadata": {},
     "output_type": "display_data"
    }
   ],
   "source": [
    "{\n",
    "    Matrix<double> A(2,2, {1, -1, -2, 2});\n",
    "    xc::display_latex(A);\n",
    "    A *= 3;\n",
    "    xc::display_latex(A);\n",
    "}"
   ]
  },
  {
   "cell_type": "code",
   "execution_count": 57,
   "id": "8443e9ee",
   "metadata": {},
   "outputs": [
    {
     "data": {
      "text/latex": [
       "$\\left(\\begin{array}{rr}\n",
       "1.00 & -1.00 \\\\\n",
       "-2.00 & 2.00 \\\\\n",
       "\\end{array}\\right)$"
      ]
     },
     "metadata": {},
     "output_type": "display_data"
    },
    {
     "data": {
      "text/latex": [
       "$\\left(\\begin{array}{rr}\n",
       "0.333 & -0.333 \\\\\n",
       "-0.667 & 0.667 \\\\\n",
       "\\end{array}\\right)$"
      ]
     },
     "metadata": {},
     "output_type": "display_data"
    }
   ],
   "source": [
    "{\n",
    "    Matrix<double> A(2,2, {1, -1, -2, 2});\n",
    "    xc::display_latex(A);\n",
    "    A /= 3;\n",
    "    xc::display_latex(A);\n",
    "}"
   ]
  },
  {
   "cell_type": "code",
   "execution_count": 58,
   "id": "5b050862",
   "metadata": {},
   "outputs": [
    {
     "data": {
      "text/plain": [
       "Execution of the cell has captured the following outputs:\n",
       "1\n",
       "0\n"
      ]
     },
     "metadata": {},
     "output_type": "display_data"
    }
   ],
   "source": [
    "{\n",
    "    Matrix<double> A(2,2, {1, -1, -2, 2});\n",
    "    Matrix<double> B(2,1);\n",
    "    std::cout << A.is_square() << \"\\n\";\n",
    "    std::cout << B.is_square() << \"\\n\";\n",
    "}"
   ]
  },
  {
   "cell_type": "code",
   "execution_count": 59,
   "id": "54ec9e06",
   "metadata": {},
   "outputs": [
    {
     "data": {
      "text/latex": [
       "$\\left(\\begin{array}{rr}\n",
       "1.00 & -1.00 \\\\\n",
       "-2.00 & 2.00 \\\\\n",
       "\\end{array}\\right)$"
      ]
     },
     "metadata": {},
     "output_type": "display_data"
    },
    {
     "data": {
      "text/latex": [
       "$3.00$"
      ]
     },
     "metadata": {},
     "output_type": "display_data"
    },
    {
     "data": {
      "text/latex": [
       "$0.00$"
      ]
     },
     "metadata": {},
     "output_type": "display_data"
    }
   ],
   "source": [
    "{\n",
    "    Matrix<double> A(2,2, {1, -1, -2, 2});\n",
    "    xc::display_latex(A);\n",
    "    xc::display_latex(A.tr());\n",
    "    xc::display_latex(A.det());\n",
    "}"
   ]
  },
  {
   "cell_type": "code",
   "execution_count": 60,
   "id": "801cba19",
   "metadata": {
    "scrolled": false
   },
   "outputs": [
    {
     "data": {
      "text/latex": [
       "$\\left(\\begin{array}{rr}\n",
       "2.00 & -7.00 \\\\\n",
       "0.00 & 1.00 \\\\\n",
       "\\end{array}\\right)$"
      ]
     },
     "metadata": {},
     "output_type": "display_data"
    },
    {
     "data": {
      "text/latex": [
       "$\\mathrm{tr}(A) =3.00$"
      ]
     },
     "metadata": {},
     "output_type": "display_data"
    },
    {
     "data": {
      "text/latex": [
       "$\\mathrm{det}(A) =2.00$"
      ]
     },
     "metadata": {},
     "output_type": "display_data"
    },
    {
     "data": {
      "text/latex": [
       "$\\left[1.00 + 0.00\\mathrm{i}, 2.00 + 0.00\\mathrm{i}\\right]$"
      ]
     },
     "metadata": {},
     "output_type": "display_data"
    },
    {
     "data": {
      "text/latex": [
       "$\\left[\\left(-0.990 + 0.00\\mathrm{i}, -0.141 + 0.00\\mathrm{i}\\right), \\left(-1.00 + 0.00\\mathrm{i}, 0.00 + 0.00\\mathrm{i}\\right)\\right]$"
      ]
     },
     "metadata": {},
     "output_type": "display_data"
    }
   ],
   "source": [
    "{\n",
    "    Matrix<double> A(2,2, {2, -7, 0, 1});\n",
    "    xc::display_latex(A);\n",
    "    xc::display_latex(\"\\\\mathrm{tr}(A) =\" + xu::to_latex(A.tr()));\n",
    "    xc::display_latex(\"\\\\mathrm{det}(A) =\" + xu::to_latex(A.det()));\n",
    "    std::vector<std::complex<double>> ev = A.eigenvalues();\n",
    "    xc::display_latex(ev);\n",
    "    auto evec = A.eigenvectors(ev, false);\n",
    "    xc::display_latex(evec);\n",
    "}"
   ]
  },
  {
   "cell_type": "code",
   "execution_count": 61,
   "id": "45818c46",
   "metadata": {},
   "outputs": [
    {
     "data": {
      "text/latex": [
       "$\\left(\\begin{array}{rrr}\n",
       "1.00 & 0.00 & 1.00 \\\\\n",
       "0.00 & 2.00 & 0.00 \\\\\n",
       "0.00 & 0.00 & -1.00 \\\\\n",
       "\\end{array}\\right)$"
      ]
     },
     "metadata": {},
     "output_type": "display_data"
    },
    {
     "data": {
      "text/latex": [
       "$\\mathrm{tr}(A) =2.00$"
      ]
     },
     "metadata": {},
     "output_type": "display_data"
    },
    {
     "data": {
      "text/latex": [
       "$\\mathrm{det}(A) =-2.00$"
      ]
     },
     "metadata": {},
     "output_type": "display_data"
    },
    {
     "data": {
      "text/latex": [
       "$\\left[2.00 + 0.00\\mathrm{i}, -1.00 + 0.00\\mathrm{i}, 1.00 + 0.00\\mathrm{i}\\right]$"
      ]
     },
     "metadata": {},
     "output_type": "display_data"
    },
    {
     "data": {
      "text/latex": [
       "$\\left[\\left(0.00 + 0.00\\mathrm{i}, 1.00 + 0.00\\mathrm{i}, 0.00 + 0.00\\mathrm{i}\\right), \\left(-0.447 + 0.00\\mathrm{i}, 0.00 + 0.00\\mathrm{i}, 0.894 + 0.00\\mathrm{i}\\right), \\left(-1.00 + 0.00\\mathrm{i}, 0.00 + 0.00\\mathrm{i}, 0.00 + 0.00\\mathrm{i}\\right)\\right]$"
      ]
     },
     "metadata": {},
     "output_type": "display_data"
    }
   ],
   "source": [
    "{\n",
    "    Matrix<double> A(3,3, {1,0,1,0,2,0,0,0,-1});\n",
    "    xc::display_latex(A);\n",
    "    xc::display_latex(\"\\\\mathrm{tr}(A) =\" + xu::to_latex(A.tr()));\n",
    "    xc::display_latex(\"\\\\mathrm{det}(A) =\" + xu::to_latex(A.det()));\n",
    "    std::vector<std::complex<double>> ev = A.eigenvalues();\n",
    "    xc::display_latex(ev);\n",
    "    auto evec = A.eigenvectors(ev, false);\n",
    "    xc::display_latex(evec);\n",
    "}"
   ]
  },
  {
   "cell_type": "code",
   "execution_count": null,
   "id": "4ac0e113",
   "metadata": {},
   "outputs": [],
   "source": []
  },
  {
   "cell_type": "markdown",
   "id": "82a64aa2",
   "metadata": {},
   "source": [
    "<h3> Solving Linear Systems (LU factorization) </h3>"
   ]
  },
  {
   "cell_type": "code",
   "execution_count": 62,
   "id": "e6bcd5ba",
   "metadata": {},
   "outputs": [
    {
     "data": {
      "text/latex": [
       "$A = \\left(\\begin{array}{rrrr}\n",
       "6.00 & 2.00 & 1.00 & -1.00 \\\\\n",
       "2.00 & 4.00 & 1.00 & 0.00 \\\\\n",
       "1.00 & 1.00 & 4.00 & -1.00 \\\\\n",
       "-1.00 & 0.00 & -1.00 & 3.00 \\\\\n",
       "\\end{array}\\right)$"
      ]
     },
     "metadata": {},
     "output_type": "display_data"
    },
    {
     "data": {
      "text/latex": [
       "$L = \\left(\\begin{array}{rrrr}\n",
       "1.00 & 0.00 & 0.00 & 0.00 \\\\\n",
       "0.333 & 1.00 & 0.00 & 0.00 \\\\\n",
       "0.167 & 0.200 & 1.00 & 0.00 \\\\\n",
       "-0.167 & 0.100 & -0.243 & 1.00 \\\\\n",
       "\\end{array}\\right)$"
      ]
     },
     "metadata": {},
     "output_type": "display_data"
    },
    {
     "data": {
      "text/latex": [
       "$U = \\left(\\begin{array}{rrrr}\n",
       "6.00 & 2.00 & 1.00 & -1.00 \\\\\n",
       "0.00 & 3.33 & 0.667 & 0.333 \\\\\n",
       "0.00 & 0.00 & 3.70 & -0.900 \\\\\n",
       "0.00 & 0.00 & 0.00 & 2.58 \\\\\n",
       "\\end{array}\\right)$"
      ]
     },
     "metadata": {},
     "output_type": "display_data"
    },
    {
     "data": {
      "text/latex": [
       "$P = \\left[0, 1, 2, 3\\right]$"
      ]
     },
     "metadata": {},
     "output_type": "display_data"
    },
    {
     "data": {
      "text/latex": [
       "$LU = \\left(\\begin{array}{rrrr}\n",
       "6.00 & 2.00 & 1.00 & -1.00 \\\\\n",
       "2.00 & 4.00 & 1.00 & 0.00 \\\\\n",
       "1.00 & 1.00 & 4.00 & -1.00 \\\\\n",
       "-1.00 & 0.00 & -1.00 & 3.00 \\\\\n",
       "\\end{array}\\right)$"
      ]
     },
     "metadata": {},
     "output_type": "display_data"
    }
   ],
   "source": [
    "{\n",
    "    Matrix<double> A = Matrix<double>(4,4, {6, 2, 1, -1, 2, 4, 1, 0, 1, 1, 4, -1, -1, 0, -1, 3});\n",
    "    xc::display_latex(\"A = \" + xu::to_latex(A));\n",
    "    Matrix<double> L, U;\n",
    "    std::vector<unsigned int> P;\n",
    "    A.LU(L, U, P);\n",
    "    xc::display_latex(\"L = \" + xu::to_latex(L));\n",
    "    xc::display_latex(\"U = \" + xu::to_latex(U));\n",
    "    xc::display_latex(\"P = \" + xu::to_latex(P));\n",
    "    xc::display_latex(\"LU = \" + xu::to_latex(L|U));\n",
    "}"
   ]
  },
  {
   "cell_type": "code",
   "execution_count": 63,
   "id": "861c254e",
   "metadata": {},
   "outputs": [
    {
     "data": {
      "text/latex": [
       "$A = \\left(\\begin{array}{rrr}\n",
       "1.00 & 2.00 & 1.00 \\\\\n",
       "2.00 & 1.00 & 0.00 \\\\\n",
       "-1.00 & 2.00 & 3.00 \\\\\n",
       "\\end{array}\\right)$"
      ]
     },
     "metadata": {},
     "output_type": "display_data"
    },
    {
     "data": {
      "text/latex": [
       "$L = \\left(\\begin{array}{rrr}\n",
       "1.00 & 0.00 & 0.00 \\\\\n",
       "-0.500 & 1.00 & 0.00 \\\\\n",
       "0.500 & 0.600 & 1.00 \\\\\n",
       "\\end{array}\\right)$"
      ]
     },
     "metadata": {},
     "output_type": "display_data"
    },
    {
     "data": {
      "text/latex": [
       "$U = \\left(\\begin{array}{rrr}\n",
       "2.00 & 1.00 & 0.00 \\\\\n",
       "0.00 & 2.50 & 3.00 \\\\\n",
       "0.00 & 0.00 & -0.800 \\\\\n",
       "\\end{array}\\right)$"
      ]
     },
     "metadata": {},
     "output_type": "display_data"
    },
    {
     "data": {
      "text/latex": [
       "$P = \\left[1, 2, 0\\right]$"
      ]
     },
     "metadata": {},
     "output_type": "display_data"
    },
    {
     "data": {
      "text/latex": [
       "$LU = \\left(\\begin{array}{rrr}\n",
       "2.00 & 1.00 & 0.00 \\\\\n",
       "-1.00 & 2.00 & 3.00 \\\\\n",
       "1.00 & 2.00 & 1.00 \\\\\n",
       "\\end{array}\\right)$"
      ]
     },
     "metadata": {},
     "output_type": "display_data"
    }
   ],
   "source": [
    "{\n",
    "    Matrix<double> A = Matrix<double>(3,3, {1, 2, 1, 2, 1, 0, -1, 2, 3});\n",
    "    xc::display_latex(\"A = \" + xu::to_latex(A));\n",
    "    Matrix<double> L, U;\n",
    "    std::vector<unsigned int> P;\n",
    "    A.LU(L, U, P);\n",
    "    xc::display_latex(\"L = \" + xu::to_latex(L));\n",
    "    xc::display_latex(\"U = \" + xu::to_latex(U));\n",
    "    xc::display_latex(\"P = \" + xu::to_latex(P));\n",
    "    xc::display_latex(\"LU = \" + xu::to_latex(L|U));\n",
    "}"
   ]
  },
  {
   "cell_type": "code",
   "execution_count": 64,
   "id": "e8026fbc",
   "metadata": {},
   "outputs": [
    {
     "data": {
      "text/latex": [
       "$A = \\left(\\begin{array}{rrrr}\n",
       "6.00 & 2.00 & 1.00 & -1.00 \\\\\n",
       "2.00 & 4.00 & 1.00 & 0.00 \\\\\n",
       "1.00 & 1.00 & 4.00 & -1.00 \\\\\n",
       "-1.00 & 0.00 & -1.00 & 3.00 \\\\\n",
       "\\end{array}\\right)$"
      ]
     },
     "metadata": {},
     "output_type": "display_data"
    },
    {
     "data": {
      "text/latex": [
       "$b = \\left(3.00, 1.00, -5.00, 6.00\\right)$"
      ]
     },
     "metadata": {},
     "output_type": "display_data"
    },
    {
     "data": {
      "text/latex": [
       "$x = \\left(1.00, 6.66\\cdot 10^{-17}, -1.00, 2.00\\right)$"
      ]
     },
     "metadata": {},
     "output_type": "display_data"
    },
    {
     "data": {
      "text/latex": [
       "$Ax = \\left(3.00, 1.00, -5.00, 6.00\\right)$"
      ]
     },
     "metadata": {},
     "output_type": "display_data"
    }
   ],
   "source": [
    "{\n",
    "    Matrix<double> A = Matrix<double>(4,4, {6, 2, 1, -1, 2, 4, 1, 0, 1, 1, 4, -1, -1, 0, -1, 3});\n",
    "    xc::display_latex(\"A = \" + xu::to_latex(A));\n",
    "    Vector<double> b = {3, 1, -5, 6};\n",
    "    xc::display_latex(\"b = \" + xu::to_latex(b));\n",
    "    algebraic_solvers::LinearSystemSolver LS(A);\n",
    "    Vector<double> x = LS.solve(b);\n",
    "    xc::display_latex(\"x = \" + xu::to_latex(x));\n",
    "    xc::display_latex(\"Ax = \" + xu::to_latex(A|x));\n",
    "}"
   ]
  },
  {
   "cell_type": "code",
   "execution_count": 65,
   "id": "f8895d48",
   "metadata": {},
   "outputs": [
    {
     "data": {
      "text/latex": [
       "$A = \\left(\\begin{array}{rrrr}\n",
       "10.0 & -1.00 & 2.00 & 0.00 \\\\\n",
       "-1.00 & 11.0 & -1.00 & 3.00 \\\\\n",
       "2.00 & -1.00 & 10.0 & -1.00 \\\\\n",
       "0.00 & 3.00 & -1.00 & 8.00 \\\\\n",
       "\\end{array}\\right)$"
      ]
     },
     "metadata": {},
     "output_type": "display_data"
    },
    {
     "data": {
      "text/latex": [
       "$b = \\left(6.00, 25.0, -11.0, 15.0\\right)$"
      ]
     },
     "metadata": {},
     "output_type": "display_data"
    },
    {
     "data": {
      "text/latex": [
       "$x = \\left(1.00, 2.00, -1.00, 1.00\\right)$"
      ]
     },
     "metadata": {},
     "output_type": "display_data"
    },
    {
     "data": {
      "text/latex": [
       "$Ax = \\left(6.00, 25.0, -11.0, 15.0\\right)$"
      ]
     },
     "metadata": {},
     "output_type": "display_data"
    }
   ],
   "source": [
    "{\n",
    "    Matrix<double> A = Matrix<double>(4,4, {10, -1, 2, 0, -1, 11, -1, 3, 2, -1, 10, -1, 0, 3, -1, 8});\n",
    "    xc::display_latex(\"A = \" + xu::to_latex(A));\n",
    "    Vector<double> b = {6, 25, -11, 15};\n",
    "    xc::display_latex(\"b = \" + xu::to_latex(b));\n",
    "    algebraic_solvers::LinearSystemSolver LS(A);\n",
    "    Vector<double> x = LS.solve(b);\n",
    "    xc::display_latex(\"x = \" + xu::to_latex(x));\n",
    "    xc::display_latex(\"Ax = \" + xu::to_latex(A|x));\n",
    "}"
   ]
  },
  {
   "cell_type": "code",
   "execution_count": 66,
   "id": "d768502a",
   "metadata": {},
   "outputs": [
    {
     "data": {
      "text/latex": [
       "$A = \\left(\\begin{array}{rrrrrr}\n",
       "4.00 & -1.00 & 0.00 & -1.00 & 0.00 & 0.00 \\\\\n",
       "-1.00 & 4.00 & -1.00 & 0.00 & -1.00 & 0.00 \\\\\n",
       "0.00 & -1.00 & 4.00 & 0.00 & 0.00 & -1.00 \\\\\n",
       "-1.00 & 0.00 & 0.00 & 4.00 & -1.00 & 0.00 \\\\\n",
       "0.00 & -1.00 & 0.00 & -1.00 & 4.00 & -1.00 \\\\\n",
       "0.00 & 0.00 & -1.00 & 0.00 & -1.00 & 4.00 \\\\\n",
       "\\end{array}\\right)$"
      ]
     },
     "metadata": {},
     "output_type": "display_data"
    },
    {
     "data": {
      "text/latex": [
       "$b = \\left(0.00, 5.00, 0.00, 6.00, -2.00, 6.00\\right)$"
      ]
     },
     "metadata": {},
     "output_type": "display_data"
    },
    {
     "data": {
      "text/latex": [
       "$x = \\left(1.00, 2.00, 1.00, 2.00, 1.00, 2.00\\right)$"
      ]
     },
     "metadata": {},
     "output_type": "display_data"
    },
    {
     "data": {
      "text/latex": [
       "$Ax = \\left(2.22\\cdot 10^{-16}, 5.00, 0.00, 6.00, -2.00, 6.00\\right)$"
      ]
     },
     "metadata": {},
     "output_type": "display_data"
    }
   ],
   "source": [
    "{\n",
    "    Matrix<double> A = Matrix<double>(6,6, {4, -1, 0, -1, 0, 0,\n",
    "                                            -1, 4, -1, 0, -1, 0,\n",
    "                                            0, -1, 4, 0, 0, -1,\n",
    "                                            -1, 0, 0, 4, -1, 0,\n",
    "                                            0, -1, 0, -1, 4, -1,\n",
    "                                            0, 0, -1, 0, -1, 4});\n",
    "    xc::display_latex(\"A = \" + xu::to_latex(A));\n",
    "    Vector<double> b = {0, 5, 0, 6, -2, 6};\n",
    "    xc::display_latex(\"b = \" + xu::to_latex(b));\n",
    "    algebraic_solvers::LinearSystemSolver LS(A);\n",
    "    Vector<double> x = LS.solve(b);\n",
    "    xc::display_latex(\"x = \" + xu::to_latex(x));\n",
    "    xc::display_latex(\"Ax = \" + xu::to_latex(A|x));\n",
    "}"
   ]
  },
  {
   "cell_type": "code",
   "execution_count": 67,
   "id": "ca168cad",
   "metadata": {},
   "outputs": [
    {
     "data": {
      "text/latex": [
       "$A = \\left(\\begin{array}{rrr}\n",
       "1.00 & 2.00 & 3.00 \\\\\n",
       "4.00 & 5.00 & 6.00 \\\\\n",
       "7.00 & 8.00 & -1.00 \\\\\n",
       "\\end{array}\\right)$"
      ]
     },
     "metadata": {},
     "output_type": "display_data"
    },
    {
     "data": {
      "text/latex": [
       "$b = \\left(3.00, -3.00, 3.00\\right)$"
      ]
     },
     "metadata": {},
     "output_type": "display_data"
    },
    {
     "data": {
      "text/latex": [
       "$x = \\left(-8.20, 7.40, -1.20\\right)$"
      ]
     },
     "metadata": {},
     "output_type": "display_data"
    },
    {
     "data": {
      "text/latex": [
       "$Ax = \\left(3.00, -3.00, 3.00\\right)$"
      ]
     },
     "metadata": {},
     "output_type": "display_data"
    }
   ],
   "source": [
    "{\n",
    "    Matrix<double> A = Matrix<double>(3,3, {1,2,3,4,5,6,7,8,-1});\n",
    "    xc::display_latex(\"A = \" + xu::to_latex(A));\n",
    "    Vector<double> b = {3, -3, 3};\n",
    "    xc::display_latex(\"b = \" + xu::to_latex(b));\n",
    "    algebraic_solvers::LinearSystemSolver LS(A);\n",
    "    Vector<double> x = LS.solve(b);\n",
    "    xc::display_latex(\"x = \" + xu::to_latex(x));\n",
    "    xc::display_latex(\"Ax = \" + xu::to_latex(A|x));\n",
    "}"
   ]
  },
  {
   "cell_type": "code",
   "execution_count": 68,
   "id": "37f47e56",
   "metadata": {},
   "outputs": [
    {
     "data": {
      "text/latex": [
       "$A = \\left(\\begin{array}{rrrrr}\n",
       "1.00 & 0.500 & 0.333 & 0.250 & 0.200 \\\\\n",
       "0.500 & 0.333 & 0.250 & 0.200 & 0.167 \\\\\n",
       "0.333 & 0.250 & 0.200 & 0.167 & 0.143 \\\\\n",
       "0.250 & 0.200 & 0.167 & 0.143 & 0.125 \\\\\n",
       "0.200 & 0.167 & 0.143 & 0.125 & 0.111 \\\\\n",
       "\\end{array}\\right)$"
      ]
     },
     "metadata": {},
     "output_type": "display_data"
    },
    {
     "data": {
      "text/latex": [
       "$b = \\left(0.00, 0.00, 0.00, 0.00, 1.00\\right)$"
      ]
     },
     "metadata": {},
     "output_type": "display_data"
    },
    {
     "data": {
      "text/latex": [
       "$x = \\left(630, -1.26\\cdot 10^{4}, 5.67\\cdot 10^{4}, -8.82\\cdot 10^{4}, 4.41\\cdot 10^{4}\\right)$"
      ]
     },
     "metadata": {},
     "output_type": "display_data"
    },
    {
     "data": {
      "text/latex": [
       "$Ax = \\left(0.00, -2.73\\cdot 10^{-12}, -9.09\\cdot 10^{-13}, -9.09\\cdot 10^{-13}, 1.00\\right)$"
      ]
     },
     "metadata": {},
     "output_type": "display_data"
    }
   ],
   "source": [
    "{\n",
    "    Matrix<double> A = Matrix<double>(5,5, {1, 1./2, 1./3, 1./4, 1./5,\n",
    "                                            1./2, 1./3, 1./4, 1./5, 1./6,\n",
    "                                            1./3, 1./4, 1./5, 1./6, 1./7,\n",
    "                                            1./4, 1./5, 1./6, 1./7, 1./8,\n",
    "                                            1./5, 1./6, 1./7, 1./8, 1./9});\n",
    "    xc::display_latex(\"A = \" + xu::to_latex(A));\n",
    "    Vector<double> b = {0, 0, 0, 0, 1};\n",
    "    xc::display_latex(\"b = \" + xu::to_latex(b));\n",
    "    algebraic_solvers::LinearSystemSolver LS(A);\n",
    "    Vector<double> x = LS.solve(b);\n",
    "    xc::display_latex(\"x = \" + xu::to_latex(x));\n",
    "    xc::display_latex(\"Ax = \" + xu::to_latex(A|x));\n",
    "}"
   ]
  },
  {
   "cell_type": "code",
   "execution_count": 69,
   "id": "603dfefa",
   "metadata": {},
   "outputs": [
    {
     "data": {
      "text/latex": [
       "$A = \\left(\\begin{array}{rrrrrrrr}\n",
       "2.00 & 1.00 & 0.00 & 0.00 & 0.00 & 0.00 & 0.00 & 0.00 \\\\\n",
       "1.00 & 2.00 & 1.00 & 0.00 & 0.00 & 0.00 & 0.00 & 0.00 \\\\\n",
       "0.00 & 1.00 & 2.00 & 1.00 & 0.00 & 0.00 & 0.00 & 0.00 \\\\\n",
       "0.00 & 0.00 & 1.00 & 2.00 & 1.00 & 0.00 & 0.00 & 0.00 \\\\\n",
       "0.00 & 0.00 & 0.00 & 1.00 & 2.00 & 1.00 & 0.00 & 0.00 \\\\\n",
       "0.00 & 0.00 & 0.00 & 0.00 & 1.00 & 2.00 & 1.00 & 0.00 \\\\\n",
       "0.00 & 0.00 & 0.00 & 0.00 & 0.00 & 1.00 & 2.00 & 1.00 \\\\\n",
       "0.00 & 0.00 & 0.00 & 0.00 & 0.00 & 0.00 & 1.00 & 2.00 \\\\\n",
       "\\end{array}\\right)$"
      ]
     },
     "metadata": {},
     "output_type": "display_data"
    },
    {
     "data": {
      "text/latex": [
       "$b = \\left(0.111, 0.111, 0.333, 0.222, 0.222, 0.333, 0.111, 0.111\\right)$"
      ]
     },
     "metadata": {},
     "output_type": "display_data"
    },
    {
     "data": {
      "text/latex": [
       "$x = \\left(0.111, -0.111, 0.222, 9.62\\cdot 10^{-17}, -9.25\\cdot 10^{-17}, 0.222, -0.111, 0.111\\right)$"
      ]
     },
     "metadata": {},
     "output_type": "display_data"
    },
    {
     "data": {
      "text/latex": [
       "$Ax = \\left(0.111, 0.111, 0.333, 0.222, 0.222, 0.333, 0.111, 0.111\\right)$"
      ]
     },
     "metadata": {},
     "output_type": "display_data"
    }
   ],
   "source": [
    "{\n",
    "    Matrix<double> A = Matrix<double>(8,8, {2, 1, 0, 0, 0, 0, 0, 0,\n",
    "                                            1, 2, 1, 0, 0, 0, 0, 0,\n",
    "                                            0, 1, 2, 1, 0, 0, 0, 0,\n",
    "                                            0, 0, 1, 2, 1, 0, 0, 0,\n",
    "                                            0, 0, 0, 1, 2, 1, 0, 0,\n",
    "                                            0, 0, 0, 0, 1, 2, 1, 0,\n",
    "                                            0, 0, 0, 0, 0, 1, 2, 1,\n",
    "                                            0, 0, 0, 0, 0, 0, 1, 2});\n",
    "    xc::display_latex(\"A = \" + xu::to_latex(A));\n",
    "    Vector<double> b = {1./9, 1./9, 1./3, 2./9, 2./9, 1./3, 1./9, 1./9};\n",
    "    xc::display_latex(\"b = \" + xu::to_latex(b));\n",
    "    algebraic_solvers::LinearSystemSolver LS(A);\n",
    "    Vector<double> x = LS.solve(b);\n",
    "    xc::display_latex(\"x = \" + xu::to_latex(x));\n",
    "    xc::display_latex(\"Ax = \" + xu::to_latex(A|x));\n",
    "}"
   ]
  },
  {
   "cell_type": "code",
   "execution_count": 70,
   "id": "67a8586c",
   "metadata": {},
   "outputs": [
    {
     "data": {
      "text/latex": [
       "$A = \\left(\\begin{array}{rrrrrrrr}\n",
       "2.00 & -1.00 & 0.00 & 0.00 & 0.00 & 0.00 & 0.00 & 0.00 \\\\\n",
       "-1.00 & 2.00 & -1.00 & 0.00 & 0.00 & 0.00 & 0.00 & 0.00 \\\\\n",
       "0.00 & -1.00 & 2.00 & -1.00 & 0.00 & 0.00 & 0.00 & 0.00 \\\\\n",
       "0.00 & 0.00 & -1.00 & 2.00 & -1.00 & 0.00 & 0.00 & 0.00 \\\\\n",
       "0.00 & 0.00 & 0.00 & -1.00 & 2.00 & -1.00 & 0.00 & 0.00 \\\\\n",
       "0.00 & 0.00 & 0.00 & 0.00 & -1.00 & 2.00 & -1.00 & 0.00 \\\\\n",
       "0.00 & 0.00 & 0.00 & 0.00 & 0.00 & -1.00 & 2.00 & -1.00 \\\\\n",
       "0.00 & 0.00 & 0.00 & 0.00 & 0.00 & 0.00 & -1.00 & 2.00 \\\\\n",
       "\\end{array}\\right)$"
      ]
     },
     "metadata": {},
     "output_type": "display_data"
    },
    {
     "data": {
      "text/latex": [
       "$b = \\left(1.00, 1.00, 1.00, 1.00, 1.00, 1.00, 1.00, 1.00\\right)$"
      ]
     },
     "metadata": {},
     "output_type": "display_data"
    },
    {
     "data": {
      "text/latex": [
       "$x = \\left(4.00, 7.00, 9.00, 10.0, 10.0, 9.00, 7.00, 4.00\\right)$"
      ]
     },
     "metadata": {},
     "output_type": "display_data"
    },
    {
     "data": {
      "text/latex": [
       "$Ax = \\left(1.00, 1.00, 1.00, 1.00, 1.00, 1.00, 1.00, 1.00\\right)$"
      ]
     },
     "metadata": {},
     "output_type": "display_data"
    }
   ],
   "source": [
    "{\n",
    "    Matrix<double> A = Matrix<double>(8,8, {2, -1, 0, 0, 0, 0, 0, 0,\n",
    "                                            -1, 2, -1, 0, 0, 0, 0, 0,\n",
    "                                            0, -1, 2, -1, 0, 0, 0, 0,\n",
    "                                            0, 0, -1, 2, -1, 0, 0, 0,\n",
    "                                            0, 0, 0, -1, 2, -1, 0, 0,\n",
    "                                            0, 0, 0, 0, -1, 2, -1, 0,\n",
    "                                            0, 0, 0, 0, 0, -1, 2, -1,\n",
    "                                            0, 0, 0, 0, 0, 0, -1, 2});\n",
    "    xc::display_latex(\"A = \" + xu::to_latex(A));\n",
    "    Vector<double> b = {1, 1, 1, 1, 1, 1, 1, 1};\n",
    "    xc::display_latex(\"b = \" + xu::to_latex(b));\n",
    "    algebraic_solvers::LinearSystemSolver LS(A);\n",
    "    Vector<double> x = LS.solve(b);\n",
    "    xc::display_latex(\"x = \" + xu::to_latex(x));\n",
    "    xc::display_latex(\"Ax = \" + xu::to_latex(A|x));\n",
    "}"
   ]
  },
  {
   "cell_type": "code",
   "execution_count": 71,
   "id": "d179e77d",
   "metadata": {},
   "outputs": [
    {
     "data": {
      "text/latex": [
       "$A = \\left(\\begin{array}{rrrrr}\n",
       "0.00 & 9.00 & 1.00 & 0.00 & 0.00 \\\\\n",
       "0.00 & 0.00 & 9.00 & 1.00 & 0.00 \\\\\n",
       "0.00 & 0.00 & 0.00 & 9.00 & 1.00 \\\\\n",
       "1.00 & 0.00 & 0.00 & 0.00 & 9.00 \\\\\n",
       "9.00 & 1.00 & 0.00 & 0.00 & 0.00 \\\\\n",
       "\\end{array}\\right)$"
      ]
     },
     "metadata": {},
     "output_type": "display_data"
    },
    {
     "data": {
      "text/latex": [
       "$b = \\left(1.00, 1.00, 1.00, 1.00, 1.00\\right)$"
      ]
     },
     "metadata": {},
     "output_type": "display_data"
    },
    {
     "data": {
      "text/latex": [
       "$x = \\left(0.100, 0.100, 0.100, 0.100, 0.100\\right)$"
      ]
     },
     "metadata": {},
     "output_type": "display_data"
    },
    {
     "data": {
      "text/latex": [
       "$Ax = \\left(1.00, 1.00, 1.00, 1.00, 1.00\\right)$"
      ]
     },
     "metadata": {},
     "output_type": "display_data"
    }
   ],
   "source": [
    "{\n",
    "    Matrix<double> A = Matrix<double>(5,5, {0, 9, 1, 0, 0,\n",
    "                                            0, 0, 9, 1, 0,\n",
    "                                            0, 0, 0, 9, 1,\n",
    "                                            1, 0, 0, 0, 9,\n",
    "                                            9, 1, 0, 0, 0});\n",
    "    xc::display_latex(\"A = \" + xu::to_latex(A));\n",
    "    Vector<double> b = {1, 1, 1, 1, 1};\n",
    "    xc::display_latex(\"b = \" + xu::to_latex(b));\n",
    "    algebraic_solvers::LinearSystemSolver LS(A);\n",
    "    Vector<double> x = LS.solve(b);\n",
    "    xc::display_latex(\"x = \" + xu::to_latex(x));\n",
    "    xc::display_latex(\"Ax = \" + xu::to_latex(A|x));\n",
    "}"
   ]
  },
  {
   "cell_type": "code",
   "execution_count": 72,
   "id": "2f3a517c",
   "metadata": {},
   "outputs": [
    {
     "data": {
      "text/latex": [
       "$A = \\left(\\begin{array}{rrrrr}\n",
       "0.00 & 1.00 & 0.00 & 0.00 & 0.00 \\\\\n",
       "0.00 & 0.00 & 0.00 & 0.00 & 1.00 \\\\\n",
       "1.00 & 0.00 & 0.00 & 0.00 & 0.00 \\\\\n",
       "0.00 & 0.00 & 1.00 & 0.00 & 0.00 \\\\\n",
       "0.00 & 0.00 & 0.00 & 1.00 & 0.00 \\\\\n",
       "\\end{array}\\right)$"
      ]
     },
     "metadata": {},
     "output_type": "display_data"
    },
    {
     "data": {
      "text/latex": [
       "$b = \\left(1.00, 2.00, 3.00, 4.00, 5.00\\right)$"
      ]
     },
     "metadata": {},
     "output_type": "display_data"
    },
    {
     "data": {
      "text/latex": [
       "$x = \\left(3.00, 1.00, 4.00, 5.00, 2.00\\right)$"
      ]
     },
     "metadata": {},
     "output_type": "display_data"
    },
    {
     "data": {
      "text/latex": [
       "$Ax = \\left(1.00, 2.00, 3.00, 4.00, 5.00\\right)$"
      ]
     },
     "metadata": {},
     "output_type": "display_data"
    }
   ],
   "source": [
    "{\n",
    "    Matrix<double> A = Matrix<double>(5,5, {0, 1, 0, 0, 0,\n",
    "                                            0, 0, 0, 0, 1,\n",
    "                                            1, 0, 0, 0, 0,\n",
    "                                            0, 0, 1, 0, 0,\n",
    "                                            0, 0, 0, 1, 0});\n",
    "    xc::display_latex(\"A = \" + xu::to_latex(A));\n",
    "    Vector<double> b = {1, 2, 3, 4, 5};\n",
    "    xc::display_latex(\"b = \" + xu::to_latex(b));\n",
    "    algebraic_solvers::LinearSystemSolver LS(A);\n",
    "    Vector<double> x = LS.solve(b);\n",
    "    xc::display_latex(\"x = \" + xu::to_latex(x));\n",
    "    xc::display_latex(\"Ax = \" + xu::to_latex(A|x));\n",
    "}"
   ]
  },
  {
   "cell_type": "code",
   "execution_count": null,
   "id": "5485da71",
   "metadata": {},
   "outputs": [],
   "source": []
  },
  {
   "cell_type": "markdown",
   "id": "6163e1a3",
   "metadata": {},
   "source": [
    "<h3> DualNumbers </h3>"
   ]
  },
  {
   "cell_type": "code",
   "execution_count": 73,
   "id": "f09e9a32",
   "metadata": {},
   "outputs": [],
   "source": [
    "DualNumber<double> x(3,2);\n",
    "DualNumber<double> y(-1,1);"
   ]
  },
  {
   "cell_type": "code",
   "execution_count": 74,
   "id": "bc477ec2",
   "metadata": {},
   "outputs": [
    {
     "data": {
      "text/plain": [
       "3.00 + 2.00ε"
      ]
     },
     "metadata": {},
     "output_type": "display_data"
    },
    {
     "data": {
      "text/plain": [
       "-1.00 + 1.00ε"
      ]
     },
     "metadata": {},
     "output_type": "display_data"
    }
   ],
   "source": [
    "xc::display_plain(x);\n",
    "xc::display_plain(y);"
   ]
  },
  {
   "cell_type": "code",
   "execution_count": 75,
   "id": "5580a2cf",
   "metadata": {},
   "outputs": [
    {
     "data": {
      "text/plain": [
       "2.00 + 3.00ε"
      ]
     },
     "execution_count": 75,
     "metadata": {},
     "output_type": "execute_result"
    }
   ],
   "source": [
    "x + y"
   ]
  },
  {
   "cell_type": "code",
   "execution_count": 76,
   "id": "826d2bfe",
   "metadata": {},
   "outputs": [
    {
     "data": {
      "text/plain": [
       "4.00 + 1.00ε"
      ]
     },
     "execution_count": 76,
     "metadata": {},
     "output_type": "execute_result"
    }
   ],
   "source": [
    "x - y"
   ]
  },
  {
   "cell_type": "code",
   "execution_count": 77,
   "id": "57b4ca23",
   "metadata": {},
   "outputs": [
    {
     "data": {
      "text/plain": [
       "-3.00 + 1.00ε"
      ]
     },
     "execution_count": 77,
     "metadata": {},
     "output_type": "execute_result"
    }
   ],
   "source": [
    "x * y"
   ]
  },
  {
   "cell_type": "code",
   "execution_count": 78,
   "id": "d0e55632",
   "metadata": {},
   "outputs": [
    {
     "data": {
      "text/plain": [
       "-3.00 - 5.00ε"
      ]
     },
     "execution_count": 78,
     "metadata": {},
     "output_type": "execute_result"
    }
   ],
   "source": [
    "x / y"
   ]
  },
  {
   "cell_type": "code",
   "execution_count": 79,
   "id": "0974d48a",
   "metadata": {},
   "outputs": [
    {
     "data": {
      "text/plain": [
       "1.00 + 0.00ε"
      ]
     },
     "execution_count": 79,
     "metadata": {},
     "output_type": "execute_result"
    }
   ],
   "source": [
    "cos(0. + DualNumber<double>::epsilon)"
   ]
  },
  {
   "cell_type": "code",
   "execution_count": 80,
   "id": "2f842e40",
   "metadata": {},
   "outputs": [
    {
     "data": {
      "text/plain": [
       "0.00 + 1.00ε"
      ]
     },
     "execution_count": 80,
     "metadata": {},
     "output_type": "execute_result"
    }
   ],
   "source": [
    "sin(0. + DualNumber<double>::epsilon)"
   ]
  },
  {
   "cell_type": "code",
   "execution_count": 81,
   "id": "53982949",
   "metadata": {},
   "outputs": [
    {
     "data": {
      "text/plain": [
       "1.00 + 2.00ε"
      ]
     },
     "execution_count": 81,
     "metadata": {},
     "output_type": "execute_result"
    }
   ],
   "source": [
    "tan(M_PI/4 + DualNumber<double>::epsilon)"
   ]
  },
  {
   "cell_type": "code",
   "execution_count": 82,
   "id": "c7029cda",
   "metadata": {},
   "outputs": [
    {
     "data": {
      "text/plain": [
       "0.524 + 1.15ε"
      ]
     },
     "execution_count": 82,
     "metadata": {},
     "output_type": "execute_result"
    }
   ],
   "source": [
    "asin(0.5 + DualNumber<double>::epsilon)"
   ]
  },
  {
   "cell_type": "code",
   "execution_count": 83,
   "id": "0560fab8",
   "metadata": {},
   "outputs": [
    {
     "data": {
      "text/plain": [
       "1.05 - 1.15ε"
      ]
     },
     "execution_count": 83,
     "metadata": {},
     "output_type": "execute_result"
    }
   ],
   "source": [
    "acos(0.5 + DualNumber<double>::epsilon)"
   ]
  },
  {
   "cell_type": "code",
   "execution_count": 84,
   "id": "4e6960b7",
   "metadata": {},
   "outputs": [
    {
     "data": {
      "text/plain": [
       "0.464 + 0.800ε"
      ]
     },
     "execution_count": 84,
     "metadata": {},
     "output_type": "execute_result"
    }
   ],
   "source": [
    "atan(0.5 + DualNumber<double>::epsilon)"
   ]
  },
  {
   "cell_type": "code",
   "execution_count": 85,
   "id": "1e21d5a9",
   "metadata": {},
   "outputs": [
    {
     "data": {
      "text/plain": [
       "1.13 + 0.521ε"
      ]
     },
     "execution_count": 85,
     "metadata": {},
     "output_type": "execute_result"
    }
   ],
   "source": [
    "cosh(0.5 + DualNumber<double>::epsilon)"
   ]
  },
  {
   "cell_type": "code",
   "execution_count": 86,
   "id": "66fb0db2",
   "metadata": {},
   "outputs": [
    {
     "data": {
      "text/plain": [
       "0.521 + 1.13ε"
      ]
     },
     "execution_count": 86,
     "metadata": {},
     "output_type": "execute_result"
    }
   ],
   "source": [
    "sinh(0.5 + DualNumber<double>::epsilon)"
   ]
  },
  {
   "cell_type": "code",
   "execution_count": 87,
   "id": "ecd5ac12",
   "metadata": {},
   "outputs": [
    {
     "data": {
      "text/plain": [
       "0.462 + 0.786ε"
      ]
     },
     "execution_count": 87,
     "metadata": {},
     "output_type": "execute_result"
    }
   ],
   "source": [
    "tanh(0.5 + DualNumber<double>::epsilon)"
   ]
  },
  {
   "cell_type": "code",
   "execution_count": 88,
   "id": "e88bf7cb",
   "metadata": {},
   "outputs": [
    {
     "data": {
      "text/plain": [
       "1.57 + 0.436ε"
      ]
     },
     "execution_count": 88,
     "metadata": {},
     "output_type": "execute_result"
    }
   ],
   "source": [
    "acosh(2.5 + DualNumber<double>::epsilon)"
   ]
  },
  {
   "cell_type": "code",
   "execution_count": 89,
   "id": "050ac70a",
   "metadata": {},
   "outputs": [
    {
     "data": {
      "text/plain": [
       "0.481 + 0.894ε"
      ]
     },
     "execution_count": 89,
     "metadata": {},
     "output_type": "execute_result"
    }
   ],
   "source": [
    "asinh(0.5 + DualNumber<double>::epsilon)"
   ]
  },
  {
   "cell_type": "code",
   "execution_count": 90,
   "id": "4dae4355",
   "metadata": {},
   "outputs": [
    {
     "data": {
      "text/plain": [
       "0.549 + 1.33ε"
      ]
     },
     "execution_count": 90,
     "metadata": {},
     "output_type": "execute_result"
    }
   ],
   "source": [
    "atanh(0.5 + DualNumber<double>::epsilon)"
   ]
  },
  {
   "cell_type": "code",
   "execution_count": 91,
   "id": "de7cba20",
   "metadata": {},
   "outputs": [
    {
     "data": {
      "text/plain": [
       "2.72 + 2.72ε"
      ]
     },
     "execution_count": 91,
     "metadata": {},
     "output_type": "execute_result"
    }
   ],
   "source": [
    "exp(1. + DualNumber<double>::epsilon)"
   ]
  },
  {
   "cell_type": "code",
   "execution_count": 92,
   "id": "659f8da9",
   "metadata": {},
   "outputs": [
    {
     "data": {
      "text/plain": [
       "0.00 + 1.00ε"
      ]
     },
     "execution_count": 92,
     "metadata": {},
     "output_type": "execute_result"
    }
   ],
   "source": [
    "log(1. + DualNumber<double>::epsilon)"
   ]
  },
  {
   "cell_type": "code",
   "execution_count": 93,
   "id": "642b8138",
   "metadata": {},
   "outputs": [
    {
     "data": {
      "text/plain": [
       "1.00 + 0.0434ε"
      ]
     },
     "execution_count": 93,
     "metadata": {},
     "output_type": "execute_result"
    }
   ],
   "source": [
    "log10(10. + DualNumber<double>::epsilon)"
   ]
  },
  {
   "cell_type": "code",
   "execution_count": 94,
   "id": "a7d9de4a",
   "metadata": {},
   "outputs": [
    {
     "data": {
      "text/plain": [
       "1.02*10^(3) + 710ε"
      ]
     },
     "execution_count": 94,
     "metadata": {},
     "output_type": "execute_result"
    }
   ],
   "source": [
    "exp2(10. + DualNumber<double>::epsilon)"
   ]
  },
  {
   "cell_type": "code",
   "execution_count": 95,
   "id": "742064df",
   "metadata": {},
   "outputs": [
    {
     "data": {
      "text/plain": [
       "0.105 + 1.11ε"
      ]
     },
     "execution_count": 95,
     "metadata": {},
     "output_type": "execute_result"
    }
   ],
   "source": [
    "expm1(0.1 + DualNumber<double>::epsilon)"
   ]
  },
  {
   "cell_type": "code",
   "execution_count": 96,
   "id": "32b433cc",
   "metadata": {},
   "outputs": [
    {
     "data": {
      "text/plain": [
       "0.0953 + 0.909ε"
      ]
     },
     "execution_count": 96,
     "metadata": {},
     "output_type": "execute_result"
    }
   ],
   "source": [
    "log1p(0.1 + DualNumber<double>::epsilon)"
   ]
  },
  {
   "cell_type": "code",
   "execution_count": 97,
   "id": "8986c1c3",
   "metadata": {},
   "outputs": [
    {
     "data": {
      "text/plain": [
       "-3.32 + 14.4ε"
      ]
     },
     "execution_count": 97,
     "metadata": {},
     "output_type": "execute_result"
    }
   ],
   "source": [
    "log2(0.1 + DualNumber<double>::epsilon)"
   ]
  },
  {
   "cell_type": "code",
   "execution_count": 98,
   "id": "2d38c82e",
   "metadata": {},
   "outputs": [
    {
     "data": {
      "text/plain": [
       "-4.00 + 14.4ε"
      ]
     },
     "execution_count": 98,
     "metadata": {},
     "output_type": "execute_result"
    }
   ],
   "source": [
    "logb(0.1 + DualNumber<double>::epsilon)"
   ]
  },
  {
   "cell_type": "code",
   "execution_count": 99,
   "id": "4f8bbd28",
   "metadata": {},
   "outputs": [
    {
     "data": {
      "text/plain": [
       "9.00 + 6.00ε"
      ]
     },
     "execution_count": 99,
     "metadata": {},
     "output_type": "execute_result"
    }
   ],
   "source": [
    "pow(3. + DualNumber<double>::epsilon, 2.)"
   ]
  },
  {
   "cell_type": "code",
   "execution_count": 100,
   "id": "f8ed0ebe",
   "metadata": {},
   "outputs": [
    {
     "data": {
      "text/plain": [
       "9.00 + 9.89ε"
      ]
     },
     "execution_count": 100,
     "metadata": {},
     "output_type": "execute_result"
    }
   ],
   "source": [
    "pow(3., 2. + DualNumber<double>::epsilon)"
   ]
  },
  {
   "cell_type": "code",
   "execution_count": 101,
   "id": "b1419861",
   "metadata": {},
   "outputs": [
    {
     "data": {
      "text/plain": [
       "1.41 + 0.354ε"
      ]
     },
     "execution_count": 101,
     "metadata": {},
     "output_type": "execute_result"
    }
   ],
   "source": [
    "sqrt(2. + DualNumber<double>::epsilon)"
   ]
  },
  {
   "cell_type": "code",
   "execution_count": 102,
   "id": "7e0a8779",
   "metadata": {},
   "outputs": [
    {
     "data": {
      "text/plain": [
       "1.26 + 0.210ε"
      ]
     },
     "execution_count": 102,
     "metadata": {},
     "output_type": "execute_result"
    }
   ],
   "source": [
    "cbrt(2. + DualNumber<double>::epsilon)"
   ]
  },
  {
   "cell_type": "code",
   "execution_count": 103,
   "id": "51ed1dd7",
   "metadata": {},
   "outputs": [
    {
     "data": {
      "text/plain": [
       "0.520 + 0.879ε"
      ]
     },
     "execution_count": 103,
     "metadata": {},
     "output_type": "execute_result"
    }
   ],
   "source": [
    "erf(0.5 + DualNumber<double>::epsilon)"
   ]
  },
  {
   "cell_type": "code",
   "execution_count": 104,
   "id": "a51ae4d4",
   "metadata": {},
   "outputs": [
    {
     "data": {
      "text/plain": [
       "0.480 - 0.879ε"
      ]
     },
     "execution_count": 104,
     "metadata": {},
     "output_type": "execute_result"
    }
   ],
   "source": [
    "erfc(0.5 + DualNumber<double>::epsilon)"
   ]
  },
  {
   "cell_type": "code",
   "execution_count": 105,
   "id": "dd25450e",
   "metadata": {},
   "outputs": [
    {
     "data": {
      "text/plain": [
       "0.500 + 1.00ε"
      ]
     },
     "execution_count": 105,
     "metadata": {},
     "output_type": "execute_result"
    }
   ],
   "source": [
    "fabs(0.5 + DualNumber<double>::epsilon)"
   ]
  },
  {
   "cell_type": "code",
   "execution_count": 106,
   "id": "8aa05a43",
   "metadata": {},
   "outputs": [
    {
     "data": {
      "text/plain": [
       "0.500 - 1.00ε"
      ]
     },
     "execution_count": 106,
     "metadata": {},
     "output_type": "execute_result"
    }
   ],
   "source": [
    "fabs(-0.5 + DualNumber<double>::epsilon)"
   ]
  },
  {
   "cell_type": "markdown",
   "id": "5e1f97a9",
   "metadata": {},
   "source": [
    "<h3> AlgebraicSolvers </h3>"
   ]
  },
  {
   "cell_type": "code",
   "execution_count": 107,
   "id": "dbddfa42",
   "metadata": {},
   "outputs": [
    {
     "data": {
      "text/plain": [
       "1.41421413421631"
      ]
     },
     "metadata": {},
     "output_type": "display_data"
    },
    {
     "data": {
      "text/plain": [
       "1.41421356237310"
      ]
     },
     "metadata": {},
     "output_type": "display_data"
    },
    {
     "data": {
      "text/plain": [
       "1.41421356237310"
      ]
     },
     "metadata": {},
     "output_type": "display_data"
    },
    {
     "data": {
      "text/plain": [
       "1.41421356237310"
      ]
     },
     "metadata": {},
     "output_type": "display_data"
    },
    {
     "data": {
      "text/plain": [
       "1.41421356237310"
      ]
     },
     "metadata": {},
     "output_type": "display_data"
    }
   ],
   "source": [
    "{\n",
    "    auto f = [](double x){return x*x - 2;};\n",
    "    auto df = [](double x){return 2*x;};\n",
    "    auto fD = [](DualNumber<double> x){return x*x - 2.;};\n",
    "    xc::display_plain(algebraic_solvers::bisection(f, 0, 2, 1000, 1e-6, 1e-6), 15u);\n",
    "    xc::display_plain(algebraic_solvers::secant(f, 1, 2, 1000, 1e-6, 1e-6), 15u);\n",
    "    xc::display_plain(algebraic_solvers::newton_raphson(f, df, 2, 1000, 1e-6, 1e-6), 15u);\n",
    "    xc::display_plain(algebraic_solvers::newton_raphson(fD, 2, 1000, 1e-6, 1e-6), 15u);\n",
    "    xc::display_plain(sqrt(2), 15u);\n",
    "}"
   ]
  },
  {
   "cell_type": "code",
   "execution_count": 108,
   "id": "f482ec58",
   "metadata": {},
   "outputs": [
    {
     "data": {
      "text/plain": [
       "2.71828222274780"
      ]
     },
     "metadata": {},
     "output_type": "display_data"
    },
    {
     "data": {
      "text/plain": [
       "2.71828182845903"
      ]
     },
     "metadata": {},
     "output_type": "display_data"
    },
    {
     "data": {
      "text/plain": [
       "2.71828182845894"
      ]
     },
     "metadata": {},
     "output_type": "display_data"
    },
    {
     "data": {
      "text/plain": [
       "2.71828182845894"
      ]
     },
     "metadata": {},
     "output_type": "display_data"
    },
    {
     "data": {
      "text/plain": [
       "2.71828182845905"
      ]
     },
     "metadata": {},
     "output_type": "display_data"
    }
   ],
   "source": [
    "{\n",
    "    auto f = [](double x){return log(x) - 1;};\n",
    "    auto df = [](double x){return 1/x;};\n",
    "    auto fD = [](DualNumber<double> x){return log(x) - 1.;};\n",
    "    xc::display_plain(algebraic_solvers::bisection(f, 0, 3, 1000, 1e-6, 1e-6), 15u);\n",
    "    xc::display_plain(algebraic_solvers::secant(f, 1, 2, 1000, 1e-6, 1e-6), 15u);\n",
    "    xc::display_plain(algebraic_solvers::newton_raphson(f, df, 2, 1000, 1e-6, 1e-6), 15u);\n",
    "    xc::display_plain(algebraic_solvers::newton_raphson(fD, 2, 1000, 1e-6, 1e-6), 15u);\n",
    "    xc::display_plain(exp(1), 15u);\n",
    "}"
   ]
  },
  {
   "cell_type": "code",
   "execution_count": null,
   "id": "98064654",
   "metadata": {},
   "outputs": [],
   "source": []
  },
  {
   "cell_type": "markdown",
   "id": "b44e4925",
   "metadata": {},
   "source": [
    "<h3> ODE Solvers </h3>"
   ]
  },
  {
   "cell_type": "code",
   "execution_count": 109,
   "id": "indie-madness",
   "metadata": {},
   "outputs": [
    {
     "data": {
      "text/plain": [
       "Execution of the cell has captured the following outputs:\n",
       "exacta\t\teuler\t\trk\n",
       "1.00000000000\t(1.00000000000)\t(1.00000000000)\n",
       "0.990049833749\t(0.990000000000)\t(0.990049833750)\n",
       "0.980198673307\t(0.980100000000)\t(0.980198673308)\n",
       "0.970445533549\t(0.970299000000)\t(0.970445533551)\n",
       "0.960789439152\t(0.960596010000)\t(0.960789439156)\n",
       "0.951229424501\t(0.950990049900)\t(0.951229424505)\n",
       "0.941764533584\t(0.941480149401)\t(0.941764533589)\n",
       "0.932393819906\t(0.932065347907)\t(0.932393819911)\n",
       "0.923116346387\t(0.922744694428)\t(0.923116346393)\n",
       "0.913931185271\t(0.913517247484)\t(0.913931185278)\n",
       "0.904837418036\t(0.904382075009)\t(0.904837418044)\n",
       "0.895834135297\t(0.895338254259)\t(0.895834135305)\n",
       "0.886920436717\t(0.886384871716)\t(0.886920436726)\n",
       "0.878095430921\t(0.877521022999)\t(0.878095430930)\n",
       "0.869358235399\t(0.868745812769)\t(0.869358235409)\n",
       "0.860707976425\t(0.860058354641)\t(0.860707976436)\n",
       "0.852143788966\t(0.851457771095)\t(0.852143788978)\n",
       "0.843664816596\t(0.842943193384)\t(0.843664816608)\n",
       "0.835270211411\t(0.834513761450)\t(0.835270211424)\n",
       "0.826959133943\t(0.826168623836)\t(0.826959133957)\n",
       "0.818730753078\t(0.817906937597)\t(0.818730753092)\n",
       "0.810584245970\t(0.809727868221)\t(0.810584245984)\n",
       "0.802518797962\t(0.801630589539)\t(0.802518797977)\n",
       "0.794533602503\t(0.793614283644)\t(0.794533602519)\n",
       "0.786627861067\t(0.785678140807)\t(0.786627861082)\n",
       "0.778800783071\t(0.777821359399)\t(0.778800783088)\n",
       "0.771051585804\t(0.770043145805)\t(0.771051585820)\n",
       "0.763379494337\t(0.762342714347)\t(0.763379494354)\n",
       "0.755783741456\t(0.754719287204)\t(0.755783741474)\n",
       "0.748263567579\t(0.747172094332)\t(0.748263567597)\n",
       "0.740818220682\t(0.739700373388)\t(0.740818220700)\n",
       "0.733446956224\t(0.732303369654)\t(0.733446956243)\n",
       "0.726149037074\t(0.724980335958)\t(0.726149037093)\n",
       "0.718923733432\t(0.717730532598)\t(0.718923733452)\n",
       "0.711770322763\t(0.710553227272)\t(0.711770322783)\n",
       "0.704688089719\t(0.703447695000)\t(0.704688089739)\n",
       "0.697676326071\t(0.696413218050)\t(0.697676326092)\n",
       "0.690734330637\t(0.689449085869)\t(0.690734330659)\n",
       "0.683861409212\t(0.682554595010)\t(0.683861409234)\n",
       "0.677056874498\t(0.675729049060)\t(0.677056874520)\n"
      ]
     },
     "metadata": {},
     "output_type": "display_data"
    }
   ],
   "source": [
    "{\n",
    "    auto f = [] (const Vector<double>& x) -> Vector<double>{return -x;};\n",
    "    Vector<double> x_0({1});\n",
    "    Vector<double> x_euler = x_0;\n",
    "    Vector<double> x_rk = x_0;\n",
    "    double dt = 0.01;\n",
    "    std::cout << \"exacta\\t\\teuler\\t\\trk\\n\";\n",
    "    for (unsigned int i = 0; i < 40; ++i)\n",
    "    {\n",
    "        std::cout << xu::to_plain(exp(-(i*dt)), 12u) << \"\\t\" << xu::to_plain(x_euler, 12u)\n",
    "            << \"\\t\" << xu::to_plain(x_rk, 12u) << \"\\n\";\n",
    "        x_euler = ode_solvers::euler_explicit(x_euler, f, dt);\n",
    "        x_rk = ode_solvers::runge_kutta_order_4(x_rk, f, dt);\n",
    "    }\n",
    "}"
   ]
  },
  {
   "cell_type": "code",
   "execution_count": 110,
   "id": "macro-design",
   "metadata": {},
   "outputs": [
    {
     "data": {
      "text/plain": [
       "Execution of the cell has captured the following outputs:\n",
       "t\t\texacta\t\trkf\n",
       "0.00000000000\t1.00000000000\t(1.00000000000)\n",
       "0.0100000000000\t1.01005016708\t(1.01005016708)\n",
       "0.225272099766\t1.25266351927\t(1.25266342357)\n",
       "0.443597338450\t1.55830289062\t(1.55830264233)\n",
       "0.652774324364\t1.92086253927\t(1.92086210911)\n",
       "0.852864826656\t2.34635914478\t(2.34635850237)\n",
       "1.04461555949\t2.84230561615\t(2.84230472750)\n",
       "1.22871997823\t3.41685308958\t(3.41685191664)\n",
       "1.40578836053\t4.07874099253\t(4.07873949296)\n",
       "1.57635892622\t4.83731070199\t(4.83730882884)\n",
       "1.74090886401\t5.70252388689\t(5.70252158829)\n",
       "1.89986339067\t6.68498114909\t(6.68497836799)\n",
       "2.05360316963\t7.79594065696\t(7.79593733077)\n",
       "2.20247043291\t9.04733675251\t(9.04733281280)\n",
       "2.34677407198\t10.4517985325\t(10.4517939046)\n",
       "2.48679390156\t12.0226684050\t(12.0226630079)\n",
       "2.62278425435\t13.7740206229\t(13.7740143683)\n",
       "2.75497703000\t15.7206797947\t(15.7206725875)\n",
       "2.88358429597\t17.8782393756\t(17.8782311128)\n",
       "3.00880051775\t20.2630801377\t(20.2630707084)\n",
       "3.13080448073\t22.8923886221\t(22.8923779070)\n",
       "3.24976095386\t25.7841755727\t(25.7841634435)\n",
       "3.36582213610\t28.9572943527\t(28.9572806722)\n",
       "3.47912891917\t32.4314593454\t(32.4314439666)\n",
       "3.58981199389\t36.2272643393\t(36.2272471050)\n",
       "3.69799282336\t40.3662008973\t(40.3661816400)\n",
       "3.80378450151\t44.8706767129\t(44.8706552541)\n",
       "3.90729251332\t49.7640339524\t(49.7640101021)\n",
       "4.00861540979\t55.0705675830\t(55.0705411394)\n",
       "4.10784540909\t60.8155436898\t(60.8155144389)\n",
       "4.20506893334\t67.0252177793\t(67.0251854941)\n",
       "4.30036708932\t73.7268530728\t(73.7268175129)\n",
       "4.39381609984\t80.9487387860\t(80.9486996974)\n",
       "4.48548769202\t88.7202084019\t(88.7201655160)\n",
       "4.57544944730\t97.0716579284\t(97.0716109620)\n",
       "4.66376511784\t106.034564149\t(106.034512804)\n",
       "4.75049491314\t115.641502866\t(115.641446826)\n",
       "4.83569576000\t125.926167125\t(125.926106060)\n",
       "4.91942153906\t136.923385443\t(136.923319006)\n",
       "5.00172330012\t148.669140020\t(148.669067844)\n"
      ]
     },
     "metadata": {},
     "output_type": "display_data"
    }
   ],
   "source": [
    "{\n",
    "    auto f = [] (const Vector<double>& x) -> Vector<double>{return x;};\n",
    "    Vector<double> x_0({1});\n",
    "    double dt = 0.01;\n",
    "    double t = 0;\n",
    "    Vector<double> x = x_0;\n",
    "    std::cout << \"t\\t\\texacta\\t\\trkf\\n\";\n",
    "    for (unsigned int i = 0; i < 40; ++i)\n",
    "    {\n",
    "        std::cout << xu::to_plain(t, 12u) << \"\\t\" << xu::to_plain(exp(t), 12u)\n",
    "            << \"\\t\" << xu::to_plain(x, 12u) << \"\\n\";\n",
    "        ode_solvers::runge_kutta_fehlberg(x, t, dt, f, Vector<double>({1e-6}));\n",
    "    }\n",
    "}"
   ]
  },
  {
   "cell_type": "code",
   "execution_count": null,
   "id": "ec24b77f",
   "metadata": {},
   "outputs": [],
   "source": []
  },
  {
   "cell_type": "markdown",
   "id": "1d30c395",
   "metadata": {},
   "source": [
    "<h3> Integration </h3>"
   ]
  },
  {
   "cell_type": "code",
   "execution_count": 111,
   "id": "bf46498e",
   "metadata": {},
   "outputs": [
    {
     "data": {
      "text/plain": [
       "0.500000000000"
      ]
     },
     "metadata": {},
     "output_type": "display_data"
    },
    {
     "data": {
      "text/plain": [
       "0.500000000000"
      ]
     },
     "metadata": {},
     "output_type": "display_data"
    },
    {
     "data": {
      "text/plain": [
       "0.500000000000"
      ]
     },
     "metadata": {},
     "output_type": "display_data"
    }
   ],
   "source": [
    "{\n",
    "    auto f = [](double x){return x;};\n",
    "    xc::display_plain(integrators::rectangle_rule(f, 0, 1, 10), 12u);\n",
    "    xc::display_plain(integrators::trapezoidal_rule(f, 0, 1, 10), 12u);\n",
    "    xc::display_plain(integrators::Gauss_Konrad_G7_K15(f, 0, 1, 1e-6), 12u);\n",
    "}"
   ]
  },
  {
   "cell_type": "code",
   "execution_count": 112,
   "id": "9ea1ea00",
   "metadata": {},
   "outputs": [
    {
     "data": {
      "text/plain": [
       "0.332500000000"
      ]
     },
     "metadata": {},
     "output_type": "display_data"
    },
    {
     "data": {
      "text/plain": [
       "0.335000000000"
      ]
     },
     "metadata": {},
     "output_type": "display_data"
    },
    {
     "data": {
      "text/plain": [
       "0.333333333333"
      ]
     },
     "metadata": {},
     "output_type": "display_data"
    }
   ],
   "source": [
    "{\n",
    "    auto f = [](double x){return x*x;};\n",
    "    xc::display_plain(integrators::rectangle_rule(f, 0, 1, 10), 12u);\n",
    "    xc::display_plain(integrators::trapezoidal_rule(f, 0, 1, 10), 12u);\n",
    "    xc::display_plain(integrators::Gauss_Konrad_G7_K15(f, 0, 1, 1e-6), 12u);\n",
    "}"
   ]
  },
  {
   "cell_type": "code",
   "execution_count": 113,
   "id": "4b891886",
   "metadata": {},
   "outputs": [
    {
     "data": {
      "text/plain": [
       "0.333325000000"
      ]
     },
     "metadata": {},
     "output_type": "display_data"
    },
    {
     "data": {
      "text/plain": [
       "0.333350000000"
      ]
     },
     "metadata": {},
     "output_type": "display_data"
    },
    {
     "data": {
      "text/plain": [
       "0.333333333333"
      ]
     },
     "metadata": {},
     "output_type": "display_data"
    }
   ],
   "source": [
    "{\n",
    "    auto f = [](double x){return x*x;};\n",
    "    xc::display_plain(integrators::rectangle_rule(f, 0, 1, 100), 12u);\n",
    "    xc::display_plain(integrators::trapezoidal_rule(f, 0, 1, 100), 12u);\n",
    "    xc::display_plain(integrators::Gauss_Konrad_G7_K15(f, 0, 1, 1e-6), 12u);\n",
    "}"
   ]
  },
  {
   "cell_type": "code",
   "execution_count": 114,
   "id": "6a6eb5e1",
   "metadata": {},
   "outputs": [
    {
     "data": {
      "text/plain": [
       "2.00824840791"
      ]
     },
     "metadata": {},
     "output_type": "display_data"
    },
    {
     "data": {
      "text/plain": [
       "1.98352353751"
      ]
     },
     "metadata": {},
     "output_type": "display_data"
    },
    {
     "data": {
      "text/plain": [
       "2.00000000000"
      ]
     },
     "metadata": {},
     "output_type": "display_data"
    }
   ],
   "source": [
    "{\n",
    "    auto f = [](double x){return sin(x);};\n",
    "    xc::display_plain(integrators::rectangle_rule(f, 0, M_PI, 10), 12u);\n",
    "    xc::display_plain(integrators::trapezoidal_rule(f, 0, M_PI, 10), 12u);\n",
    "    xc::display_plain(integrators::Gauss_Konrad_G7_K15(f, 0, M_PI, 1e-6), 12u);\n",
    "}"
   ]
  },
  {
   "cell_type": "code",
   "execution_count": 115,
   "id": "ac94f6cc",
   "metadata": {},
   "outputs": [
    {
     "data": {
      "text/plain": [
       "2.00008224907"
      ]
     },
     "metadata": {},
     "output_type": "display_data"
    },
    {
     "data": {
      "text/plain": [
       "1.99983550389"
      ]
     },
     "metadata": {},
     "output_type": "display_data"
    },
    {
     "data": {
      "text/plain": [
       "2.00000000000"
      ]
     },
     "metadata": {},
     "output_type": "display_data"
    }
   ],
   "source": [
    "{\n",
    "    auto f = [](double x){return sin(x);};\n",
    "    xc::display_plain(integrators::rectangle_rule(f, 0, M_PI, 100), 12u);\n",
    "    xc::display_plain(integrators::trapezoidal_rule(f, 0, M_PI, 100), 12u);\n",
    "    xc::display_plain(integrators::Gauss_Konrad_G7_K15(f, 0, M_PI, 1e-6), 12u);\n",
    "}"
   ]
  },
  {
   "cell_type": "code",
   "execution_count": 116,
   "id": "9d88d0ee",
   "metadata": {},
   "outputs": [
    {
     "data": {
      "text/plain": [
       "0.886226925453"
      ]
     },
     "metadata": {},
     "output_type": "display_data"
    },
    {
     "data": {
      "text/plain": [
       "0.886135248492"
      ]
     },
     "metadata": {},
     "output_type": "display_data"
    },
    {
     "data": {
      "text/plain": [
       "0.886318602413"
      ]
     },
     "metadata": {},
     "output_type": "display_data"
    },
    {
     "data": {
      "text/plain": [
       "0.886226925453"
      ]
     },
     "metadata": {},
     "output_type": "display_data"
    }
   ],
   "source": [
    "{\n",
    "    auto f = [](double x){return exp(-x*x);};\n",
    "    xc::display_plain(sqrt(M_PI) / 2, 12u);\n",
    "    xc::display_plain(integrators::rectangle_rule(f, 0, 10, 10), 12u);\n",
    "    xc::display_plain(integrators::trapezoidal_rule(f, 0, 10, 10), 12u);\n",
    "    xc::display_plain(integrators::Gauss_Konrad_G7_K15(f, 0, 10, 1e-6), 12u);\n",
    "}"
   ]
  },
  {
   "cell_type": "code",
   "execution_count": null,
   "id": "b0f908b9",
   "metadata": {},
   "outputs": [],
   "source": []
  }
 ],
 "metadata": {
  "kernelspec": {
   "display_name": "als-xeus-cling",
   "language": "c++17",
   "name": "als-xeus-cling-kernel"
  },
  "language_info": {
   "codemirror_mode": "text/x-c++src",
   "file_extension": ".cpp",
   "mimetype": "text/x-c++src",
   "name": "c++",
   "nbconvert_exporter": "",
   "pygments_lexer": "",
   "version": "c++17"
  }
 },
 "nbformat": 4,
 "nbformat_minor": 5
}
